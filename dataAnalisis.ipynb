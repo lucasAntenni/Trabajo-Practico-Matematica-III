{
 "cells": [
  {
   "cell_type": "markdown",
   "metadata": {},
   "source": [
    "# Trabajo Practico Matematica III - Ciencia de datos #"
   ]
  },
  {
   "cell_type": "markdown",
   "metadata": {},
   "source": [
    "Nombre y Apellido -> Lucas Antenni  \n",
    "Fecha de Entrega -> 11.11.2022"
   ]
  },
  {
   "cell_type": "markdown",
   "metadata": {},
   "source": [
    "La idea de este trabajo practico es el analisis de datos del siguiente archivo con formato .csv  -> **`corredores.csv`**.  \n",
    "\n",
    "El nombre original del archivo era **`categorías de corredores.csv`** pero fue cambiado para acomodarse con la tarea en cuestion. "
   ]
  },
  {
   "cell_type": "markdown",
   "metadata": {},
   "source": [
    "**--------------------------------------------------------------------------------------------------------------------------------------------------------------------------------**"
   ]
  },
  {
   "cell_type": "markdown",
   "metadata": {},
   "source": [
    "## Analisis de datos ##"
   ]
  },
  {
   "cell_type": "markdown",
   "metadata": {},
   "source": [
    "Antes de iniciar con todo el analisis, es necesario importar todos los modulos necesarios para el trabajo.  \n",
    "*tambien se desactivaron los warnings*"
   ]
  },
  {
   "cell_type": "code",
   "execution_count": 1,
   "metadata": {},
   "outputs": [],
   "source": [
    "import matplotlib.pyplot as plt\n",
    "import numpy as np\n",
    "import pandas as pd\n",
    "from IPython import display\n",
    "##------------- Modulos de sklearn --------------------------\n",
    "from sklearn.preprocessing import StandardScaler\n",
    "from sklearn.preprocessing import PolynomialFeatures\n",
    "from sklearn.model_selection import train_test_split\n",
    "from sklearn.linear_model import LinearRegression\n",
    "from sklearn import linear_model\n",
    "from sklearn import metrics\n",
    "##------------- Modulos Personalizados --------------------------\n",
    "from module import dataFrameFunctions as dff\n",
    "import warnings\n",
    "%matplotlib inline\n",
    "warnings.filterwarnings(action='ignore')"
   ]
  },
  {
   "cell_type": "markdown",
   "metadata": {},
   "source": [
    "Procedemos a incorporar en el proyecto un *dataFrame* de los corredores y visualizamos los primeros 5 elementos, solamente para ver como se ve el *dataFrame*"
   ]
  },
  {
   "cell_type": "code",
   "execution_count": 2,
   "metadata": {},
   "outputs": [
    {
     "data": {
      "text/html": [
       "<div>\n",
       "<style scoped>\n",
       "    .dataframe tbody tr th:only-of-type {\n",
       "        vertical-align: middle;\n",
       "    }\n",
       "\n",
       "    .dataframe tbody tr th {\n",
       "        vertical-align: top;\n",
       "    }\n",
       "\n",
       "    .dataframe thead th {\n",
       "        text-align: right;\n",
       "    }\n",
       "</style>\n",
       "<table border=\"1\" class=\"dataframe\">\n",
       "  <thead>\n",
       "    <tr style=\"text-align: right;\">\n",
       "      <th></th>\n",
       "      <th>Unnamed: 0</th>\n",
       "      <th>place</th>\n",
       "      <th>gender</th>\n",
       "      <th>age</th>\n",
       "      <th>home</th>\n",
       "      <th>time</th>\n",
       "      <th>Velocidad</th>\n",
       "    </tr>\n",
       "  </thead>\n",
       "  <tbody>\n",
       "    <tr>\n",
       "      <th>0</th>\n",
       "      <td>3475</td>\n",
       "      <td>3592</td>\n",
       "      <td>Male</td>\n",
       "      <td>52</td>\n",
       "      <td>GBR</td>\n",
       "      <td>217.483333</td>\n",
       "      <td>Regular</td>\n",
       "    </tr>\n",
       "    <tr>\n",
       "      <th>1</th>\n",
       "      <td>13594</td>\n",
       "      <td>13853</td>\n",
       "      <td>Female</td>\n",
       "      <td>40</td>\n",
       "      <td>NY</td>\n",
       "      <td>272.550000</td>\n",
       "      <td>Regular</td>\n",
       "    </tr>\n",
       "    <tr>\n",
       "      <th>2</th>\n",
       "      <td>12012</td>\n",
       "      <td>12256</td>\n",
       "      <td>Male</td>\n",
       "      <td>31</td>\n",
       "      <td>FRA</td>\n",
       "      <td>265.283333</td>\n",
       "      <td>Regular</td>\n",
       "    </tr>\n",
       "    <tr>\n",
       "      <th>3</th>\n",
       "      <td>10236</td>\n",
       "      <td>10457</td>\n",
       "      <td>Female</td>\n",
       "      <td>33</td>\n",
       "      <td>MI</td>\n",
       "      <td>256.150000</td>\n",
       "      <td>Regular</td>\n",
       "    </tr>\n",
       "    <tr>\n",
       "      <th>4</th>\n",
       "      <td>9476</td>\n",
       "      <td>9686</td>\n",
       "      <td>Male</td>\n",
       "      <td>33</td>\n",
       "      <td>NY</td>\n",
       "      <td>252.250000</td>\n",
       "      <td>Regular</td>\n",
       "    </tr>\n",
       "  </tbody>\n",
       "</table>\n",
       "</div>"
      ],
      "text/plain": [
       "   Unnamed: 0  place  gender  age home        time Velocidad\n",
       "0        3475   3592    Male   52  GBR  217.483333   Regular\n",
       "1       13594  13853  Female   40   NY  272.550000   Regular\n",
       "2       12012  12256    Male   31  FRA  265.283333   Regular\n",
       "3       10236  10457  Female   33   MI  256.150000   Regular\n",
       "4        9476   9686    Male   33   NY  252.250000   Regular"
      ]
     },
     "execution_count": 2,
     "metadata": {},
     "output_type": "execute_result"
    }
   ],
   "source": [
    "dfCorredores = pd.read_csv('corredores.csv')\n",
    "dfCorredores.head()"
   ]
  },
  {
   "cell_type": "markdown",
   "metadata": {},
   "source": [
    "Vemos que hay una columna sin nombre. Para solucionar esto cambiaremos el nombre y haremos algunas modificaciones para mejorar la prolijidad y presentación."
   ]
  },
  {
   "cell_type": "code",
   "execution_count": 3,
   "metadata": {},
   "outputs": [],
   "source": [
    "dfCorredores.rename(columns={\n",
    "    'Unnamed: 0':'ID',\n",
    "    'place':'Place',\n",
    "    'gender':'Gender',\n",
    "    'age':'Age',\n",
    "    'home':'Home',\n",
    "    'time':'Time',\n",
    "    'Velocidad':'Velocity'},\n",
    "    inplace=True)"
   ]
  },
  {
   "cell_type": "markdown",
   "metadata": {},
   "source": [
    "Una vez hecho esto, lo que haremos es hacer un display de los primeros y ultimos 15 corredores, para poder tener una vision general de los datos."
   ]
  },
  {
   "cell_type": "code",
   "execution_count": 4,
   "metadata": {},
   "outputs": [
    {
     "data": {
      "text/html": [
       "<div>\n",
       "<style scoped>\n",
       "    .dataframe tbody tr th:only-of-type {\n",
       "        vertical-align: middle;\n",
       "    }\n",
       "\n",
       "    .dataframe tbody tr th {\n",
       "        vertical-align: top;\n",
       "    }\n",
       "\n",
       "    .dataframe thead th {\n",
       "        text-align: right;\n",
       "    }\n",
       "</style>\n",
       "<table border=\"1\" class=\"dataframe\">\n",
       "  <thead>\n",
       "    <tr style=\"text-align: right;\">\n",
       "      <th></th>\n",
       "      <th>ID</th>\n",
       "      <th>Place</th>\n",
       "      <th>Gender</th>\n",
       "      <th>Age</th>\n",
       "      <th>Home</th>\n",
       "      <th>Time</th>\n",
       "      <th>Velocity</th>\n",
       "    </tr>\n",
       "  </thead>\n",
       "  <tbody>\n",
       "    <tr>\n",
       "      <th>0</th>\n",
       "      <td>3475</td>\n",
       "      <td>3592</td>\n",
       "      <td>Male</td>\n",
       "      <td>52</td>\n",
       "      <td>GBR</td>\n",
       "      <td>217.483333</td>\n",
       "      <td>Regular</td>\n",
       "    </tr>\n",
       "    <tr>\n",
       "      <th>1</th>\n",
       "      <td>13594</td>\n",
       "      <td>13853</td>\n",
       "      <td>Female</td>\n",
       "      <td>40</td>\n",
       "      <td>NY</td>\n",
       "      <td>272.550000</td>\n",
       "      <td>Regular</td>\n",
       "    </tr>\n",
       "    <tr>\n",
       "      <th>2</th>\n",
       "      <td>12012</td>\n",
       "      <td>12256</td>\n",
       "      <td>Male</td>\n",
       "      <td>31</td>\n",
       "      <td>FRA</td>\n",
       "      <td>265.283333</td>\n",
       "      <td>Regular</td>\n",
       "    </tr>\n",
       "    <tr>\n",
       "      <th>3</th>\n",
       "      <td>10236</td>\n",
       "      <td>10457</td>\n",
       "      <td>Female</td>\n",
       "      <td>33</td>\n",
       "      <td>MI</td>\n",
       "      <td>256.150000</td>\n",
       "      <td>Regular</td>\n",
       "    </tr>\n",
       "    <tr>\n",
       "      <th>4</th>\n",
       "      <td>9476</td>\n",
       "      <td>9686</td>\n",
       "      <td>Male</td>\n",
       "      <td>33</td>\n",
       "      <td>NY</td>\n",
       "      <td>252.250000</td>\n",
       "      <td>Regular</td>\n",
       "    </tr>\n",
       "    <tr>\n",
       "      <th>5</th>\n",
       "      <td>1720</td>\n",
       "      <td>1784</td>\n",
       "      <td>Male</td>\n",
       "      <td>40</td>\n",
       "      <td>NJ</td>\n",
       "      <td>201.966667</td>\n",
       "      <td>Regular</td>\n",
       "    </tr>\n",
       "    <tr>\n",
       "      <th>6</th>\n",
       "      <td>15736</td>\n",
       "      <td>16020</td>\n",
       "      <td>Female</td>\n",
       "      <td>30</td>\n",
       "      <td>CA</td>\n",
       "      <td>283.566667</td>\n",
       "      <td>Regular</td>\n",
       "    </tr>\n",
       "    <tr>\n",
       "      <th>7</th>\n",
       "      <td>10580</td>\n",
       "      <td>10805</td>\n",
       "      <td>Male</td>\n",
       "      <td>27</td>\n",
       "      <td>GBR</td>\n",
       "      <td>255.883333</td>\n",
       "      <td>Regular</td>\n",
       "    </tr>\n",
       "    <tr>\n",
       "      <th>8</th>\n",
       "      <td>11957</td>\n",
       "      <td>12201</td>\n",
       "      <td>Male</td>\n",
       "      <td>42</td>\n",
       "      <td>NED</td>\n",
       "      <td>264.250000</td>\n",
       "      <td>Regular</td>\n",
       "    </tr>\n",
       "    <tr>\n",
       "      <th>9</th>\n",
       "      <td>18933</td>\n",
       "      <td>19266</td>\n",
       "      <td>Male</td>\n",
       "      <td>48</td>\n",
       "      <td>B.C</td>\n",
       "      <td>306.683333</td>\n",
       "      <td>Lento</td>\n",
       "    </tr>\n",
       "    <tr>\n",
       "      <th>10</th>\n",
       "      <td>14956</td>\n",
       "      <td>15229</td>\n",
       "      <td>Female</td>\n",
       "      <td>63</td>\n",
       "      <td>GBR</td>\n",
       "      <td>281.266667</td>\n",
       "      <td>Regular</td>\n",
       "    </tr>\n",
       "    <tr>\n",
       "      <th>11</th>\n",
       "      <td>14987</td>\n",
       "      <td>15260</td>\n",
       "      <td>Male</td>\n",
       "      <td>49</td>\n",
       "      <td>ITA</td>\n",
       "      <td>280.250000</td>\n",
       "      <td>Regular</td>\n",
       "    </tr>\n",
       "    <tr>\n",
       "      <th>12</th>\n",
       "      <td>10447</td>\n",
       "      <td>10670</td>\n",
       "      <td>Male</td>\n",
       "      <td>33</td>\n",
       "      <td>NY</td>\n",
       "      <td>258.333333</td>\n",
       "      <td>Regular</td>\n",
       "    </tr>\n",
       "    <tr>\n",
       "      <th>13</th>\n",
       "      <td>10435</td>\n",
       "      <td>10658</td>\n",
       "      <td>Male</td>\n",
       "      <td>43</td>\n",
       "      <td>NY</td>\n",
       "      <td>257.133333</td>\n",
       "      <td>Regular</td>\n",
       "    </tr>\n",
       "    <tr>\n",
       "      <th>14</th>\n",
       "      <td>191</td>\n",
       "      <td>200</td>\n",
       "      <td>Male</td>\n",
       "      <td>40</td>\n",
       "      <td>GER</td>\n",
       "      <td>163.933333</td>\n",
       "      <td>Veloz</td>\n",
       "    </tr>\n",
       "  </tbody>\n",
       "</table>\n",
       "</div>"
      ],
      "text/plain": [
       "       ID  Place  Gender  Age Home        Time Velocity\n",
       "0    3475   3592    Male   52  GBR  217.483333  Regular\n",
       "1   13594  13853  Female   40   NY  272.550000  Regular\n",
       "2   12012  12256    Male   31  FRA  265.283333  Regular\n",
       "3   10236  10457  Female   33   MI  256.150000  Regular\n",
       "4    9476   9686    Male   33   NY  252.250000  Regular\n",
       "5    1720   1784    Male   40   NJ  201.966667  Regular\n",
       "6   15736  16020  Female   30   CA  283.566667  Regular\n",
       "7   10580  10805    Male   27  GBR  255.883333  Regular\n",
       "8   11957  12201    Male   42  NED  264.250000  Regular\n",
       "9   18933  19266    Male   48  B.C  306.683333    Lento\n",
       "10  14956  15229  Female   63  GBR  281.266667  Regular\n",
       "11  14987  15260    Male   49  ITA  280.250000  Regular\n",
       "12  10447  10670    Male   33   NY  258.333333  Regular\n",
       "13  10435  10658    Male   43   NY  257.133333  Regular\n",
       "14    191    200    Male   40  GER  163.933333    Veloz"
      ]
     },
     "execution_count": 4,
     "metadata": {},
     "output_type": "execute_result"
    }
   ],
   "source": [
    "dfCorredores.head(n=15)"
   ]
  },
  {
   "cell_type": "code",
   "execution_count": 5,
   "metadata": {},
   "outputs": [
    {
     "data": {
      "text/html": [
       "<div>\n",
       "<style scoped>\n",
       "    .dataframe tbody tr th:only-of-type {\n",
       "        vertical-align: middle;\n",
       "    }\n",
       "\n",
       "    .dataframe tbody tr th {\n",
       "        vertical-align: top;\n",
       "    }\n",
       "\n",
       "    .dataframe thead th {\n",
       "        text-align: right;\n",
       "    }\n",
       "</style>\n",
       "<table border=\"1\" class=\"dataframe\">\n",
       "  <thead>\n",
       "    <tr style=\"text-align: right;\">\n",
       "      <th></th>\n",
       "      <th>ID</th>\n",
       "      <th>Place</th>\n",
       "      <th>Gender</th>\n",
       "      <th>Age</th>\n",
       "      <th>Home</th>\n",
       "      <th>Time</th>\n",
       "      <th>Velocity</th>\n",
       "    </tr>\n",
       "  </thead>\n",
       "  <tbody>\n",
       "    <tr>\n",
       "      <th>985</th>\n",
       "      <td>20530</td>\n",
       "      <td>20877</td>\n",
       "      <td>Male</td>\n",
       "      <td>29</td>\n",
       "      <td>SUI</td>\n",
       "      <td>324.666667</td>\n",
       "      <td>Lento</td>\n",
       "    </tr>\n",
       "    <tr>\n",
       "      <th>986</th>\n",
       "      <td>13981</td>\n",
       "      <td>14245</td>\n",
       "      <td>Male</td>\n",
       "      <td>40</td>\n",
       "      <td>MA</td>\n",
       "      <td>273.700000</td>\n",
       "      <td>Regular</td>\n",
       "    </tr>\n",
       "    <tr>\n",
       "      <th>987</th>\n",
       "      <td>13190</td>\n",
       "      <td>13446</td>\n",
       "      <td>Female</td>\n",
       "      <td>37</td>\n",
       "      <td>IN</td>\n",
       "      <td>267.633333</td>\n",
       "      <td>Regular</td>\n",
       "    </tr>\n",
       "    <tr>\n",
       "      <th>988</th>\n",
       "      <td>1038</td>\n",
       "      <td>1079</td>\n",
       "      <td>Male</td>\n",
       "      <td>40</td>\n",
       "      <td>NED</td>\n",
       "      <td>191.316667</td>\n",
       "      <td>Veloz</td>\n",
       "    </tr>\n",
       "    <tr>\n",
       "      <th>989</th>\n",
       "      <td>13752</td>\n",
       "      <td>14013</td>\n",
       "      <td>Male</td>\n",
       "      <td>49</td>\n",
       "      <td>ITA</td>\n",
       "      <td>273.033333</td>\n",
       "      <td>Regular</td>\n",
       "    </tr>\n",
       "    <tr>\n",
       "      <th>990</th>\n",
       "      <td>23273</td>\n",
       "      <td>23645</td>\n",
       "      <td>Female</td>\n",
       "      <td>46</td>\n",
       "      <td>NY</td>\n",
       "      <td>501.550000</td>\n",
       "      <td>Lento</td>\n",
       "    </tr>\n",
       "    <tr>\n",
       "      <th>991</th>\n",
       "      <td>15901</td>\n",
       "      <td>16189</td>\n",
       "      <td>Female</td>\n",
       "      <td>51</td>\n",
       "      <td>TN</td>\n",
       "      <td>285.350000</td>\n",
       "      <td>Regular</td>\n",
       "    </tr>\n",
       "    <tr>\n",
       "      <th>992</th>\n",
       "      <td>14889</td>\n",
       "      <td>15162</td>\n",
       "      <td>Female</td>\n",
       "      <td>50</td>\n",
       "      <td>GER</td>\n",
       "      <td>278.116667</td>\n",
       "      <td>Regular</td>\n",
       "    </tr>\n",
       "    <tr>\n",
       "      <th>993</th>\n",
       "      <td>11547</td>\n",
       "      <td>11784</td>\n",
       "      <td>Female</td>\n",
       "      <td>40</td>\n",
       "      <td>NY</td>\n",
       "      <td>263.383333</td>\n",
       "      <td>Regular</td>\n",
       "    </tr>\n",
       "    <tr>\n",
       "      <th>994</th>\n",
       "      <td>4079</td>\n",
       "      <td>4206</td>\n",
       "      <td>Male</td>\n",
       "      <td>27</td>\n",
       "      <td>CAN</td>\n",
       "      <td>223.333333</td>\n",
       "      <td>Regular</td>\n",
       "    </tr>\n",
       "    <tr>\n",
       "      <th>995</th>\n",
       "      <td>15972</td>\n",
       "      <td>16261</td>\n",
       "      <td>Male</td>\n",
       "      <td>61</td>\n",
       "      <td>FRA</td>\n",
       "      <td>285.883333</td>\n",
       "      <td>Regular</td>\n",
       "    </tr>\n",
       "    <tr>\n",
       "      <th>996</th>\n",
       "      <td>1090</td>\n",
       "      <td>1131</td>\n",
       "      <td>Male</td>\n",
       "      <td>37</td>\n",
       "      <td>GBR</td>\n",
       "      <td>191.916667</td>\n",
       "      <td>Veloz</td>\n",
       "    </tr>\n",
       "    <tr>\n",
       "      <th>997</th>\n",
       "      <td>16419</td>\n",
       "      <td>16713</td>\n",
       "      <td>Female</td>\n",
       "      <td>53</td>\n",
       "      <td>IRL</td>\n",
       "      <td>289.016667</td>\n",
       "      <td>Regular</td>\n",
       "    </tr>\n",
       "    <tr>\n",
       "      <th>998</th>\n",
       "      <td>13977</td>\n",
       "      <td>14241</td>\n",
       "      <td>Female</td>\n",
       "      <td>21</td>\n",
       "      <td>NY</td>\n",
       "      <td>276.050000</td>\n",
       "      <td>Regular</td>\n",
       "    </tr>\n",
       "    <tr>\n",
       "      <th>999</th>\n",
       "      <td>8527</td>\n",
       "      <td>8726</td>\n",
       "      <td>Male</td>\n",
       "      <td>55</td>\n",
       "      <td>GER</td>\n",
       "      <td>240.966667</td>\n",
       "      <td>Regular</td>\n",
       "    </tr>\n",
       "  </tbody>\n",
       "</table>\n",
       "</div>"
      ],
      "text/plain": [
       "        ID  Place  Gender  Age Home        Time Velocity\n",
       "985  20530  20877    Male   29  SUI  324.666667    Lento\n",
       "986  13981  14245    Male   40   MA  273.700000  Regular\n",
       "987  13190  13446  Female   37   IN  267.633333  Regular\n",
       "988   1038   1079    Male   40  NED  191.316667    Veloz\n",
       "989  13752  14013    Male   49  ITA  273.033333  Regular\n",
       "990  23273  23645  Female   46   NY  501.550000    Lento\n",
       "991  15901  16189  Female   51   TN  285.350000  Regular\n",
       "992  14889  15162  Female   50  GER  278.116667  Regular\n",
       "993  11547  11784  Female   40   NY  263.383333  Regular\n",
       "994   4079   4206    Male   27  CAN  223.333333  Regular\n",
       "995  15972  16261    Male   61  FRA  285.883333  Regular\n",
       "996   1090   1131    Male   37  GBR  191.916667    Veloz\n",
       "997  16419  16713  Female   53  IRL  289.016667  Regular\n",
       "998  13977  14241  Female   21   NY  276.050000  Regular\n",
       "999   8527   8726    Male   55  GER  240.966667  Regular"
      ]
     },
     "execution_count": 5,
     "metadata": {},
     "output_type": "execute_result"
    }
   ],
   "source": [
    "dfCorredores.tail(n=15)"
   ]
  },
  {
   "cell_type": "markdown",
   "metadata": {},
   "source": [
    "## Analisis de las columnas\n",
    "\n",
    "- ID - id del corredor\n",
    "- Place - posicion del corredor\n",
    "- Gender - genero del corredor\n",
    "- Age - edad del corredor\n",
    "- Home - pais del corredor\n",
    "- Time - tiempo total en completar la carrera\n",
    "- Velocity - velocidad en la que fueron\n",
    "\n",
    "Una cosa que se ve es que la velocidad del corredor es dependiente del tiempo que tardo en completar la carrera.  \n",
    "\n",
    "- Si el corredor tuvo un **tiempo mayor o igual a 300**, es considerado **Lento**  \n",
    "- Si el corredor tuvo un **tiempo mayor o igual a 200**, es considerado **Regular**  \n",
    "- Si el corredor tuvo un **tiempo menor a 200**, es considerado **Veloz**"
   ]
  },
  {
   "cell_type": "markdown",
   "metadata": {},
   "source": [
    "## Limpieza de datos ##\n",
    "\n",
    "Vamos a eliminar los datos que cumplan el rol de numerar o de indicar un orden, este sería el ID. El nuevo dataFragment que vamos a usar se llamará **dfScrappedCorredores**"
   ]
  },
  {
   "cell_type": "code",
   "execution_count": 6,
   "metadata": {},
   "outputs": [
    {
     "data": {
      "text/html": [
       "<div>\n",
       "<style scoped>\n",
       "    .dataframe tbody tr th:only-of-type {\n",
       "        vertical-align: middle;\n",
       "    }\n",
       "\n",
       "    .dataframe tbody tr th {\n",
       "        vertical-align: top;\n",
       "    }\n",
       "\n",
       "    .dataframe thead th {\n",
       "        text-align: right;\n",
       "    }\n",
       "</style>\n",
       "<table border=\"1\" class=\"dataframe\">\n",
       "  <thead>\n",
       "    <tr style=\"text-align: right;\">\n",
       "      <th></th>\n",
       "      <th>Place</th>\n",
       "      <th>Gender</th>\n",
       "      <th>Age</th>\n",
       "      <th>Home</th>\n",
       "      <th>Time</th>\n",
       "      <th>Velocity</th>\n",
       "    </tr>\n",
       "  </thead>\n",
       "  <tbody>\n",
       "    <tr>\n",
       "      <th>0</th>\n",
       "      <td>3592</td>\n",
       "      <td>Male</td>\n",
       "      <td>52</td>\n",
       "      <td>GBR</td>\n",
       "      <td>217.483333</td>\n",
       "      <td>Regular</td>\n",
       "    </tr>\n",
       "    <tr>\n",
       "      <th>1</th>\n",
       "      <td>13853</td>\n",
       "      <td>Female</td>\n",
       "      <td>40</td>\n",
       "      <td>NY</td>\n",
       "      <td>272.550000</td>\n",
       "      <td>Regular</td>\n",
       "    </tr>\n",
       "    <tr>\n",
       "      <th>2</th>\n",
       "      <td>12256</td>\n",
       "      <td>Male</td>\n",
       "      <td>31</td>\n",
       "      <td>FRA</td>\n",
       "      <td>265.283333</td>\n",
       "      <td>Regular</td>\n",
       "    </tr>\n",
       "    <tr>\n",
       "      <th>3</th>\n",
       "      <td>10457</td>\n",
       "      <td>Female</td>\n",
       "      <td>33</td>\n",
       "      <td>MI</td>\n",
       "      <td>256.150000</td>\n",
       "      <td>Regular</td>\n",
       "    </tr>\n",
       "    <tr>\n",
       "      <th>4</th>\n",
       "      <td>9686</td>\n",
       "      <td>Male</td>\n",
       "      <td>33</td>\n",
       "      <td>NY</td>\n",
       "      <td>252.250000</td>\n",
       "      <td>Regular</td>\n",
       "    </tr>\n",
       "    <tr>\n",
       "      <th>...</th>\n",
       "      <td>...</td>\n",
       "      <td>...</td>\n",
       "      <td>...</td>\n",
       "      <td>...</td>\n",
       "      <td>...</td>\n",
       "      <td>...</td>\n",
       "    </tr>\n",
       "    <tr>\n",
       "      <th>995</th>\n",
       "      <td>16261</td>\n",
       "      <td>Male</td>\n",
       "      <td>61</td>\n",
       "      <td>FRA</td>\n",
       "      <td>285.883333</td>\n",
       "      <td>Regular</td>\n",
       "    </tr>\n",
       "    <tr>\n",
       "      <th>996</th>\n",
       "      <td>1131</td>\n",
       "      <td>Male</td>\n",
       "      <td>37</td>\n",
       "      <td>GBR</td>\n",
       "      <td>191.916667</td>\n",
       "      <td>Veloz</td>\n",
       "    </tr>\n",
       "    <tr>\n",
       "      <th>997</th>\n",
       "      <td>16713</td>\n",
       "      <td>Female</td>\n",
       "      <td>53</td>\n",
       "      <td>IRL</td>\n",
       "      <td>289.016667</td>\n",
       "      <td>Regular</td>\n",
       "    </tr>\n",
       "    <tr>\n",
       "      <th>998</th>\n",
       "      <td>14241</td>\n",
       "      <td>Female</td>\n",
       "      <td>21</td>\n",
       "      <td>NY</td>\n",
       "      <td>276.050000</td>\n",
       "      <td>Regular</td>\n",
       "    </tr>\n",
       "    <tr>\n",
       "      <th>999</th>\n",
       "      <td>8726</td>\n",
       "      <td>Male</td>\n",
       "      <td>55</td>\n",
       "      <td>GER</td>\n",
       "      <td>240.966667</td>\n",
       "      <td>Regular</td>\n",
       "    </tr>\n",
       "  </tbody>\n",
       "</table>\n",
       "<p>1000 rows × 6 columns</p>\n",
       "</div>"
      ],
      "text/plain": [
       "     Place  Gender  Age Home        Time Velocity\n",
       "0     3592    Male   52  GBR  217.483333  Regular\n",
       "1    13853  Female   40   NY  272.550000  Regular\n",
       "2    12256    Male   31  FRA  265.283333  Regular\n",
       "3    10457  Female   33   MI  256.150000  Regular\n",
       "4     9686    Male   33   NY  252.250000  Regular\n",
       "..     ...     ...  ...  ...         ...      ...\n",
       "995  16261    Male   61  FRA  285.883333  Regular\n",
       "996   1131    Male   37  GBR  191.916667    Veloz\n",
       "997  16713  Female   53  IRL  289.016667  Regular\n",
       "998  14241  Female   21   NY  276.050000  Regular\n",
       "999   8726    Male   55  GER  240.966667  Regular\n",
       "\n",
       "[1000 rows x 6 columns]"
      ]
     },
     "execution_count": 6,
     "metadata": {},
     "output_type": "execute_result"
    }
   ],
   "source": [
    "dfScrappedCorredores = dfCorredores.copy()\n",
    "dfScrappedCorredores.pop('ID')\n",
    "dfScrappedCorredores"
   ]
  },
  {
   "cell_type": "markdown",
   "metadata": {},
   "source": [
    "### Describe() ###\n",
    "\n",
    "Vemos unos datos generales que nos puede aportar pandas con el `describe()`."
   ]
  },
  {
   "cell_type": "code",
   "execution_count": 7,
   "metadata": {},
   "outputs": [
    {
     "data": {
      "text/html": [
       "<div>\n",
       "<style scoped>\n",
       "    .dataframe tbody tr th:only-of-type {\n",
       "        vertical-align: middle;\n",
       "    }\n",
       "\n",
       "    .dataframe tbody tr th {\n",
       "        vertical-align: top;\n",
       "    }\n",
       "\n",
       "    .dataframe thead th {\n",
       "        text-align: right;\n",
       "    }\n",
       "</style>\n",
       "<table border=\"1\" class=\"dataframe\">\n",
       "  <thead>\n",
       "    <tr style=\"text-align: right;\">\n",
       "      <th></th>\n",
       "      <th>Place</th>\n",
       "      <th>Age</th>\n",
       "      <th>Time</th>\n",
       "    </tr>\n",
       "  </thead>\n",
       "  <tbody>\n",
       "    <tr>\n",
       "      <th>count</th>\n",
       "      <td>1000.000000</td>\n",
       "      <td>1000.000000</td>\n",
       "      <td>1000.000000</td>\n",
       "    </tr>\n",
       "    <tr>\n",
       "      <th>mean</th>\n",
       "      <td>11992.319000</td>\n",
       "      <td>39.100000</td>\n",
       "      <td>268.570700</td>\n",
       "    </tr>\n",
       "    <tr>\n",
       "      <th>std</th>\n",
       "      <td>6858.858466</td>\n",
       "      <td>10.675391</td>\n",
       "      <td>53.550743</td>\n",
       "    </tr>\n",
       "    <tr>\n",
       "      <th>min</th>\n",
       "      <td>54.000000</td>\n",
       "      <td>5.000000</td>\n",
       "      <td>147.333333</td>\n",
       "    </tr>\n",
       "    <tr>\n",
       "      <th>25%</th>\n",
       "      <td>6095.000000</td>\n",
       "      <td>31.000000</td>\n",
       "      <td>233.775000</td>\n",
       "    </tr>\n",
       "    <tr>\n",
       "      <th>50%</th>\n",
       "      <td>11962.000000</td>\n",
       "      <td>38.000000</td>\n",
       "      <td>262.841667</td>\n",
       "    </tr>\n",
       "    <tr>\n",
       "      <th>75%</th>\n",
       "      <td>17921.750000</td>\n",
       "      <td>46.000000</td>\n",
       "      <td>294.854167</td>\n",
       "    </tr>\n",
       "    <tr>\n",
       "      <th>max</th>\n",
       "      <td>23662.000000</td>\n",
       "      <td>81.000000</td>\n",
       "      <td>566.783333</td>\n",
       "    </tr>\n",
       "  </tbody>\n",
       "</table>\n",
       "</div>"
      ],
      "text/plain": [
       "              Place          Age         Time\n",
       "count   1000.000000  1000.000000  1000.000000\n",
       "mean   11992.319000    39.100000   268.570700\n",
       "std     6858.858466    10.675391    53.550743\n",
       "min       54.000000     5.000000   147.333333\n",
       "25%     6095.000000    31.000000   233.775000\n",
       "50%    11962.000000    38.000000   262.841667\n",
       "75%    17921.750000    46.000000   294.854167\n",
       "max    23662.000000    81.000000   566.783333"
      ]
     },
     "execution_count": 7,
     "metadata": {},
     "output_type": "execute_result"
    }
   ],
   "source": [
    "dfScrappedCorredores.describe()"
   ]
  },
  {
   "cell_type": "markdown",
   "metadata": {},
   "source": [
    "Podemos observar Algunos datos relevantes, existe un promedio al respecto de la **edad**, la **posicion** y el **tiempo** de cada partipante.  \n",
    "Respecto a la **edad** vemos el **promedio**, que es **39 años**.  \n",
    "Sobre el tiempo, podemos observar que el **tiempo promedio** de los corredores fue de **268**.  \n",
    "Podemos observar los primeros acercamientos del corredor mas rapido, estando en **la posición más chica** y teniendo **el menor tiempo**, siendo estos respecticamente el **puesto 54** con el **tiempo 147.33**.  \n",
    "Tambien podemos ver la edad del corredor mas joven, de todas formas vemos que este no necesariamente es del mas rapido, sino que tomo el valor mas chico de la columna Age. La edad de corredor mas chico es de **5 años**"
   ]
  },
  {
   "cell_type": "markdown",
   "metadata": {},
   "source": [
    "### Shape ###\n",
    "`shape` solamente nos indica el tamaño de la tabla. "
   ]
  },
  {
   "cell_type": "code",
   "execution_count": 8,
   "metadata": {},
   "outputs": [
    {
     "data": {
      "text/plain": [
       "(1000, 6)"
      ]
     },
     "execution_count": 8,
     "metadata": {},
     "output_type": "execute_result"
    }
   ],
   "source": [
    "dfScrappedCorredores.shape"
   ]
  },
  {
   "cell_type": "markdown",
   "metadata": {},
   "source": [
    "**1000** es la cantidad de **filas**, y **6** es la cantidad de columnas."
   ]
  },
  {
   "cell_type": "markdown",
   "metadata": {},
   "source": [
    "### NaN o Null\n",
    "\n",
    "Corroboremos si es que existe algunos datos *nulos* o *NaN* en el *dataFrame*.  \n",
    "Para hacer esto vamos a usar el metodo llamado `isnull()`, que transforma cada dato de la tabla en valores booleanos.  \n",
    "El valor en la tabla será true si es nulo o NaN.  \n",
    "Esto solamente reemplaza los valores de la tabla, uno por uno, por lo que necesitamos algo que nos indique por columna si alguno  \n",
    "de los datos es un nulo o NaN.  \n",
    "Para eso usamos `any()`, que nos devolvera al menos un valor true si existe, de lo contrario devolverá false."
   ]
  },
  {
   "cell_type": "code",
   "execution_count": 9,
   "metadata": {},
   "outputs": [
    {
     "data": {
      "text/plain": [
       "Place       False\n",
       "Gender      False\n",
       "Age         False\n",
       "Home         True\n",
       "Time        False\n",
       "Velocity    False\n",
       "dtype: bool"
      ]
     },
     "execution_count": 9,
     "metadata": {},
     "output_type": "execute_result"
    }
   ],
   "source": [
    "dfScrappedCorredores.isnull().any()"
   ]
  },
  {
   "cell_type": "markdown",
   "metadata": {},
   "source": [
    "Existe al menos un valor nulo o NaN en la columna de **Home**.  \n",
    "En este caso, optamos por eliminar la fila que poseía el valor nulo, dejandonos una tabla de 999 filas.  \n",
    "Ademas, pasamos esta tabla filtrada a una nueva variable llamada **dfScrappedCorredores** que es la que estaremos usando a lo largo del analisis."
   ]
  },
  {
   "cell_type": "code",
   "execution_count": 10,
   "metadata": {},
   "outputs": [
    {
     "data": {
      "text/html": [
       "<div>\n",
       "<style scoped>\n",
       "    .dataframe tbody tr th:only-of-type {\n",
       "        vertical-align: middle;\n",
       "    }\n",
       "\n",
       "    .dataframe tbody tr th {\n",
       "        vertical-align: top;\n",
       "    }\n",
       "\n",
       "    .dataframe thead th {\n",
       "        text-align: right;\n",
       "    }\n",
       "</style>\n",
       "<table border=\"1\" class=\"dataframe\">\n",
       "  <thead>\n",
       "    <tr style=\"text-align: right;\">\n",
       "      <th></th>\n",
       "      <th>Place</th>\n",
       "      <th>Gender</th>\n",
       "      <th>Age</th>\n",
       "      <th>Home</th>\n",
       "      <th>Time</th>\n",
       "      <th>Velocity</th>\n",
       "    </tr>\n",
       "  </thead>\n",
       "  <tbody>\n",
       "    <tr>\n",
       "      <th>0</th>\n",
       "      <td>3592</td>\n",
       "      <td>Male</td>\n",
       "      <td>52</td>\n",
       "      <td>GBR</td>\n",
       "      <td>217.483333</td>\n",
       "      <td>Regular</td>\n",
       "    </tr>\n",
       "    <tr>\n",
       "      <th>1</th>\n",
       "      <td>13853</td>\n",
       "      <td>Female</td>\n",
       "      <td>40</td>\n",
       "      <td>NY</td>\n",
       "      <td>272.550000</td>\n",
       "      <td>Regular</td>\n",
       "    </tr>\n",
       "    <tr>\n",
       "      <th>2</th>\n",
       "      <td>12256</td>\n",
       "      <td>Male</td>\n",
       "      <td>31</td>\n",
       "      <td>FRA</td>\n",
       "      <td>265.283333</td>\n",
       "      <td>Regular</td>\n",
       "    </tr>\n",
       "    <tr>\n",
       "      <th>3</th>\n",
       "      <td>10457</td>\n",
       "      <td>Female</td>\n",
       "      <td>33</td>\n",
       "      <td>MI</td>\n",
       "      <td>256.150000</td>\n",
       "      <td>Regular</td>\n",
       "    </tr>\n",
       "    <tr>\n",
       "      <th>4</th>\n",
       "      <td>9686</td>\n",
       "      <td>Male</td>\n",
       "      <td>33</td>\n",
       "      <td>NY</td>\n",
       "      <td>252.250000</td>\n",
       "      <td>Regular</td>\n",
       "    </tr>\n",
       "    <tr>\n",
       "      <th>...</th>\n",
       "      <td>...</td>\n",
       "      <td>...</td>\n",
       "      <td>...</td>\n",
       "      <td>...</td>\n",
       "      <td>...</td>\n",
       "      <td>...</td>\n",
       "    </tr>\n",
       "    <tr>\n",
       "      <th>995</th>\n",
       "      <td>16261</td>\n",
       "      <td>Male</td>\n",
       "      <td>61</td>\n",
       "      <td>FRA</td>\n",
       "      <td>285.883333</td>\n",
       "      <td>Regular</td>\n",
       "    </tr>\n",
       "    <tr>\n",
       "      <th>996</th>\n",
       "      <td>1131</td>\n",
       "      <td>Male</td>\n",
       "      <td>37</td>\n",
       "      <td>GBR</td>\n",
       "      <td>191.916667</td>\n",
       "      <td>Veloz</td>\n",
       "    </tr>\n",
       "    <tr>\n",
       "      <th>997</th>\n",
       "      <td>16713</td>\n",
       "      <td>Female</td>\n",
       "      <td>53</td>\n",
       "      <td>IRL</td>\n",
       "      <td>289.016667</td>\n",
       "      <td>Regular</td>\n",
       "    </tr>\n",
       "    <tr>\n",
       "      <th>998</th>\n",
       "      <td>14241</td>\n",
       "      <td>Female</td>\n",
       "      <td>21</td>\n",
       "      <td>NY</td>\n",
       "      <td>276.050000</td>\n",
       "      <td>Regular</td>\n",
       "    </tr>\n",
       "    <tr>\n",
       "      <th>999</th>\n",
       "      <td>8726</td>\n",
       "      <td>Male</td>\n",
       "      <td>55</td>\n",
       "      <td>GER</td>\n",
       "      <td>240.966667</td>\n",
       "      <td>Regular</td>\n",
       "    </tr>\n",
       "  </tbody>\n",
       "</table>\n",
       "<p>999 rows × 6 columns</p>\n",
       "</div>"
      ],
      "text/plain": [
       "     Place  Gender  Age Home        Time Velocity\n",
       "0     3592    Male   52  GBR  217.483333  Regular\n",
       "1    13853  Female   40   NY  272.550000  Regular\n",
       "2    12256    Male   31  FRA  265.283333  Regular\n",
       "3    10457  Female   33   MI  256.150000  Regular\n",
       "4     9686    Male   33   NY  252.250000  Regular\n",
       "..     ...     ...  ...  ...         ...      ...\n",
       "995  16261    Male   61  FRA  285.883333  Regular\n",
       "996   1131    Male   37  GBR  191.916667    Veloz\n",
       "997  16713  Female   53  IRL  289.016667  Regular\n",
       "998  14241  Female   21   NY  276.050000  Regular\n",
       "999   8726    Male   55  GER  240.966667  Regular\n",
       "\n",
       "[999 rows x 6 columns]"
      ]
     },
     "execution_count": 10,
     "metadata": {},
     "output_type": "execute_result"
    }
   ],
   "source": [
    "\n",
    "dfScrappedCorredores = dfScrappedCorredores.dropna(axis=0,how='any')\n",
    "dfScrappedCorredores"
   ]
  },
  {
   "cell_type": "markdown",
   "metadata": {},
   "source": [
    "Una vez hecho esto, corroboro que ahora no haya ningun valor nulo o Nan en la tabla. Esto lo hacemos siguiendo el mismo procedimiento anterior.  \n",
    "Si realmente no hay valores nulos o NaN, entonces todos los valores de las columnas deberían de devolver falso."
   ]
  },
  {
   "cell_type": "code",
   "execution_count": 11,
   "metadata": {},
   "outputs": [
    {
     "data": {
      "text/plain": [
       "Place       False\n",
       "Gender      False\n",
       "Age         False\n",
       "Home        False\n",
       "Time        False\n",
       "Velocity    False\n",
       "dtype: bool"
      ]
     },
     "execution_count": 11,
     "metadata": {},
     "output_type": "execute_result"
    }
   ],
   "source": [
    "dfScrappedCorredores.isnull().any()"
   ]
  },
  {
   "cell_type": "markdown",
   "metadata": {},
   "source": [
    "**--------------------------------------------------------------------------------------------------------------------------------------------------------------------------------**"
   ]
  },
  {
   "cell_type": "markdown",
   "metadata": {},
   "source": [
    "# Analisis en Pandas\n",
    "\n",
    "Antes de hacer analisis de regresion lineal, vamos a hacer algunos avistamientos con los datos ya presentes en el dataFrame.  \n",
    "Seleccionaremos los datos dependientes e independientes posterior al analisis de la tabla, para una mejor claridad.\n",
    "\n",
    "### Cantidad de competidores segun su velocidad\n",
    "\n",
    "En esta sección tomaremos la cantidad de competidores y filtrarlos segun lo que indique en su velocidad.  \n",
    "En este caso no estamos tomando que país fue el mas rápido, o que quién fue el mas veloz, solamente el objetivo de esta  \n",
    "parte es ver cuantos corredores veloces, regulares o lentos hubo."
   ]
  },
  {
   "cell_type": "code",
   "execution_count": 12,
   "metadata": {},
   "outputs": [
    {
     "data": {
      "text/plain": [
       "array([ 68, 719, 213], dtype=int16)"
      ]
     },
     "execution_count": 12,
     "metadata": {},
     "output_type": "execute_result"
    }
   ],
   "source": [
    "\"\"\"\n",
    "Utilizaremos un modulo llamado Modules.\n",
    "Esta es un modulo personalizado para tomar funciones directamente de sus paquetes\n",
    "El que utilizaremos se llama dataFrameFunctions que tiene funciones que se aplican directamente a una serie o un dataFrame\n",
    "---------------------------------------------------------------------------------------------------------------------------\n",
    "Ahora, la funcion que usaremos se llama countValuesInSerie, que nos devolvera la cantidad de elementos de una serie\n",
    "tomando en cuenta las veces que aparesca en la serie.\n",
    "Ya la fución se encuentra documentada, si desea corroborar al contenido puede entrar directamente al documento en cuestion\n",
    "---------------------------------------------------------------------------------------------------------------------------\n",
    "Tomaremos la cantidad de corredores dependiendo de si fueron veloces, lentos o regulares\n",
    "\"\"\"\n",
    "corredoresVeloces = dff.countValuesInSerie(serie= dfCorredores.Velocity,dataInSerie='Veloz')\n",
    "corredoresLentos = dff.countValuesInSerie(serie= dfCorredores.Velocity,dataInSerie='Lento')\n",
    "corredoresRegulares = dff.countValuesInSerie(serie= dfCorredores.Velocity,dataInSerie='Regular')\n",
    "\n",
    "\"\"\"\n",
    "Acá estoy colocando estos datos en un array de numpy. \n",
    "Esto lo vamos a usar mas adelante\n",
    "lo definimos de tipo int16 porque el tamaño de los datos no son muy grandes, podemos permitirlo\n",
    "\"\"\"\n",
    "cantCorredoresVelocidad = np.array([corredoresVeloces,corredoresRegulares,corredoresLentos], dtype='int16')\n",
    "cantCorredoresVelocidad"
   ]
  },
  {
   "cell_type": "markdown",
   "metadata": {},
   "source": [
    "En este caso, podemos apreciar la cantidad de corredores de cada categoría.  \n",
    "Hubieron:  \n",
    "-   68 corredores Veloces  \n",
    "-   719 corredores Regulares\n",
    "-   213 corredores Lentos  \n",
    "\n",
    "Abajo podemos ver esto representado en una tabla de pandas.  \n",
    "Despues, podemos ver un ploteo de barras en las que podemos observar estas cantidades."
   ]
  },
  {
   "cell_type": "code",
   "execution_count": 13,
   "metadata": {},
   "outputs": [
    {
     "data": {
      "text/html": [
       "<div>\n",
       "<style scoped>\n",
       "    .dataframe tbody tr th:only-of-type {\n",
       "        vertical-align: middle;\n",
       "    }\n",
       "\n",
       "    .dataframe tbody tr th {\n",
       "        vertical-align: top;\n",
       "    }\n",
       "\n",
       "    .dataframe thead th {\n",
       "        text-align: right;\n",
       "    }\n",
       "</style>\n",
       "<table border=\"1\" class=\"dataframe\">\n",
       "  <thead>\n",
       "    <tr style=\"text-align: right;\">\n",
       "      <th></th>\n",
       "      <th>Categoria de Corredores</th>\n",
       "    </tr>\n",
       "  </thead>\n",
       "  <tbody>\n",
       "    <tr>\n",
       "      <th>Veloz</th>\n",
       "      <td>68</td>\n",
       "    </tr>\n",
       "    <tr>\n",
       "      <th>Regular</th>\n",
       "      <td>719</td>\n",
       "    </tr>\n",
       "    <tr>\n",
       "      <th>Lento</th>\n",
       "      <td>213</td>\n",
       "    </tr>\n",
       "  </tbody>\n",
       "</table>\n",
       "</div>"
      ],
      "text/plain": [
       "         Categoria de Corredores\n",
       "Veloz                         68\n",
       "Regular                      719\n",
       "Lento                        213"
      ]
     },
     "execution_count": 13,
     "metadata": {},
     "output_type": "execute_result"
    }
   ],
   "source": [
    "dfcantCorredoresVelocidad = pd.DataFrame(data=cantCorredoresVelocidad,index=['Veloz','Regular','Lento'],columns=['Categoria de Corredores'])\n",
    "dfcantCorredoresVelocidad"
   ]
  },
  {
   "cell_type": "code",
   "execution_count": 14,
   "metadata": {},
   "outputs": [
    {
     "data": {
      "text/plain": [
       "<AxesSubplot: >"
      ]
     },
     "execution_count": 14,
     "metadata": {},
     "output_type": "execute_result"
    },
    {
     "data": {
      "image/png": "[encoded data removed]",
      "text/plain": [
       "<Figure size 640x480 with 1 Axes>"
      ]
     },
     "metadata": {},
     "output_type": "display_data"
    }
   ],
   "source": [
    "dfcantCorredoresVelocidad.plot.bar(color='teal',legend=False)"
   ]
  },
  {
   "cell_type": "markdown",
   "metadata": {},
   "source": [
    "Vemos que la **mayoría de corredores** tuvieron una **velocidad Regular**."
   ]
  },
  {
   "cell_type": "markdown",
   "metadata": {},
   "source": [
    "### Cantidad de corroderes de cada sitio ###\n",
    "\n",
    "Vamos a ver ahora la cantidad de corredores hay de cada lugar. No todos los lugares que indica Home son paises, sino la localidad u hogar del corredor.  \n",
    "Tomando el **Home** del dataFrame podemos saber la cantidad de veces que se repite el hogar. Esto nos permite saber la cantidad de corredores de cada sitio."
   ]
  },
  {
   "cell_type": "code",
   "execution_count": 15,
   "metadata": {},
   "outputs": [
    {
     "data": {
      "text/plain": [
       "NY     284\n",
       "GBR     87\n",
       "FRA     71\n",
       "NJ      61\n",
       "ITA     52\n",
       "CA      40\n",
       "NED     39\n",
       "GER     28\n",
       "MA      26\n",
       "CT      20\n",
       "CAN     19\n",
       "TX      16\n",
       "FL      16\n",
       "MEX     15\n",
       "IL      12\n",
       "Name: Home, dtype: int64"
      ]
     },
     "execution_count": 15,
     "metadata": {},
     "output_type": "execute_result"
    }
   ],
   "source": [
    "\"\"\"\n",
    "Utilizaremos la funcion serieFromColumn del modulo dataFrameFunctions\n",
    "Devuelve una serie de pandas dandole un dataFrame y el string de su columna\n",
    "\"\"\"\n",
    "\n",
    "dff.serieFromColumn(dfScrappedCorredores,'Home').head(15)"
   ]
  },
  {
   "cell_type": "markdown",
   "metadata": {},
   "source": [
    "Ademas, sabiendo esto, podemos acceder a la cantidad de sitios que participaron en la competición. Esto lo hacemos usando el atributo **size**."
   ]
  },
  {
   "cell_type": "code",
   "execution_count": 16,
   "metadata": {},
   "outputs": [
    {
     "data": {
      "text/plain": [
       "72"
      ]
     },
     "execution_count": 16,
     "metadata": {},
     "output_type": "execute_result"
    }
   ],
   "source": [
    "dff.serieFromColumn(dfScrappedCorredores,'Home').size"
   ]
  },
  {
   "cell_type": "markdown",
   "metadata": {},
   "source": [
    "Podemos ver que **participaron 72 sitios**, siendo el **sitio con más participantes Nueva York**.  \n",
    "Vemos esto es un grafico de barras."
   ]
  },
  {
   "cell_type": "code",
   "execution_count": 17,
   "metadata": {},
   "outputs": [
    {
     "data": {
      "text/plain": [
       "<AxesSubplot: xlabel='Paises', ylabel='Corredores por pais'>"
      ]
     },
     "execution_count": 17,
     "metadata": {},
     "output_type": "execute_result"
    },
    {
     "data": {
      "image/png": "[encoded data removed]",
      "text/plain": [
       "<Figure size 1500x500 with 1 Axes>"
      ]
     },
     "metadata": {},
     "output_type": "display_data"
    }
   ],
   "source": [
    "dff.serieFromColumn(dfScrappedCorredores,'Home').plot.bar(\n",
    "    color='crimson',\n",
    "    legend=False, \n",
    "    figsize=(15,5),\n",
    "    xlabel='Paises', \n",
    "    ylabel='Corredores por pais')"
   ]
  },
  {
   "cell_type": "markdown",
   "metadata": {},
   "source": [
    "### Corredores clasificados por edad ###\n",
    "\n",
    "Hagamos un analisis de los corredores tomando en cuenta la edad."
   ]
  },
  {
   "cell_type": "code",
   "execution_count": 18,
   "metadata": {},
   "outputs": [
    {
     "data": {
      "text/plain": [
       "56"
      ]
     },
     "execution_count": 18,
     "metadata": {},
     "output_type": "execute_result"
    }
   ],
   "source": [
    "dff.serieFromColumn(dfScrappedCorredores,'Age').size"
   ]
  },
  {
   "cell_type": "markdown",
   "metadata": {},
   "source": [
    "A partir de esto podemos ver que la cantidad de edades de los competidores es de **56 años diferentes**.  \n"
   ]
  },
  {
   "cell_type": "code",
   "execution_count": 19,
   "metadata": {},
   "outputs": [
    {
     "data": {
      "text/plain": [
       "<AxesSubplot: xlabel='Corredores por edad', ylabel='Cantidad de corredores'>"
      ]
     },
     "execution_count": 19,
     "metadata": {},
     "output_type": "execute_result"
    },
    {
     "data": {
      "image/png": "[encoded data removed]",
      "text/plain": [
       "<Figure size 1500x500 with 1 Axes>"
      ]
     },
     "metadata": {},
     "output_type": "display_data"
    }
   ],
   "source": [
    "dff.serieFromColumn(dfScrappedCorredores,'Age').plot.bar(\n",
    "        color='orangered',\n",
    "        legend=False, \n",
    "        figsize=(15,5),\n",
    "        xlabel='Corredores por edad', \n",
    "        ylabel='Cantidad de corredores')"
   ]
  },
  {
   "cell_type": "markdown",
   "metadata": {},
   "source": [
    "En el grafico de arriba podemos observar que la **mayor cantidad de corroderes son de 33 años**... Pero el grafico muestra de mayor a menos segun la cantidad de corredores.    \n",
    "Otra forma de verlo es si ordenamos la **edad de los corredores**."
   ]
  },
  {
   "cell_type": "code",
   "execution_count": 20,
   "metadata": {},
   "outputs": [
    {
     "data": {
      "text/plain": [
       "<AxesSubplot: xlabel='Corredores por edad', ylabel='Cantidad de corredores'>"
      ]
     },
     "execution_count": 20,
     "metadata": {},
     "output_type": "execute_result"
    },
    {
     "data": {
      "image/png": "[encoded data removed]",
      "text/plain": [
       "<Figure size 1500x500 with 1 Axes>"
      ]
     },
     "metadata": {},
     "output_type": "display_data"
    }
   ],
   "source": [
    "\"\"\"\n",
    "Tambien usamos el metodo 'sort_index()' que ordena la Serie de forma decendente\n",
    "\"\"\"\n",
    "dff.serieFromColumn(dfScrappedCorredores,'Age').sort_index(ascending=False).plot.bar(\n",
    "    color='orangered',\n",
    "    legend=False, \n",
    "    figsize=(15,5),\n",
    "    xlabel='Corredores por edad', \n",
    "    ylabel='Cantidad de corredores')"
   ]
  },
  {
   "cell_type": "markdown",
   "metadata": {},
   "source": [
    "Se evidencia que la mayoria de los corredores tienen una edad que ronda alrededor de los **30 a 33 años**, y tambien otro grupo mas chico entre los **40 y 42 años**. A partir de eso algunos de los grupos de corredores no son tan amplias."
   ]
  },
  {
   "cell_type": "markdown",
   "metadata": {},
   "source": [
    "### Clasificacion de corredores segun su genero ###\n",
    "\n",
    "Una cosa que podriamos ver por ejemplo es la cantidad de participantes hombres y mujeres. Vamos a utilizar el mismo metodo que el del punto anterior."
   ]
  },
  {
   "cell_type": "code",
   "execution_count": 21,
   "metadata": {},
   "outputs": [
    {
     "data": {
      "text/plain": [
       "Male      707\n",
       "Female    292\n",
       "Name: Gender, dtype: int64"
      ]
     },
     "execution_count": 21,
     "metadata": {},
     "output_type": "execute_result"
    }
   ],
   "source": [
    "dff.serieFromColumn(dfScrappedCorredores,'Gender')"
   ]
  },
  {
   "cell_type": "markdown",
   "metadata": {},
   "source": [
    "Podemos observar que en la competición hay **707 Hombres** y **292 Mujeres**"
   ]
  },
  {
   "cell_type": "code",
   "execution_count": 22,
   "metadata": {},
   "outputs": [
    {
     "data": {
      "text/plain": [
       "<AxesSubplot: xlabel='Genero de los corredores', ylabel='Cantidad de corredores'>"
      ]
     },
     "execution_count": 22,
     "metadata": {},
     "output_type": "execute_result"
    },
    {
     "data": {
      "image/png": "[encoded data removed]",
      "text/plain": [
       "<Figure size 1500x500 with 1 Axes>"
      ]
     },
     "metadata": {},
     "output_type": "display_data"
    }
   ],
   "source": [
    "dff.serieFromColumn(dfScrappedCorredores,'Gender').plot.bar(\n",
    "    color='teal',\n",
    "    legend=False, \n",
    "    figsize=(15,5),\n",
    "    xlabel='Genero de los corredores', \n",
    "    ylabel='Cantidad de corredores')"
   ]
  },
  {
   "cell_type": "markdown",
   "metadata": {},
   "source": [
    "Hay una **mayoria de hombres** en este evento deportivo."
   ]
  },
  {
   "cell_type": "markdown",
   "metadata": {},
   "source": [
    "### Corredores más rapidos de cada pais ###\n",
    "\n",
    "Pudimos ver antes que Nueva York era el pais con mayor cantidad de corredores en el evento, pero **¿sera el lugar con los corredores mas rapidos?**  \n",
    "En este caso tomamos la columna del tiempo y buscamos el tiempo mas chico, que sería por ende el corredor mas rapido.  \n",
    "Esto lo hacemos a travez del metodo `min()`"
   ]
  },
  {
   "cell_type": "code",
   "execution_count": 23,
   "metadata": {},
   "outputs": [
    {
     "data": {
      "text/plain": [
       "147.3333333"
      ]
     },
     "execution_count": 23,
     "metadata": {},
     "output_type": "execute_result"
    }
   ],
   "source": [
    "dfScrappedCorredores['Time'].min()"
   ]
  },
  {
   "cell_type": "markdown",
   "metadata": {},
   "source": [
    "El tiempo mas corto fue de **147.33**.  \n",
    "A travez de este dato buscaremos en el dataFrame quien es corredor mas rapido y de que sitio es.\n",
    "Estp lo haremos a travez del atributo `loc`, que nos dará la fila que estamos buscando del dataFrame."
   ]
  },
  {
   "cell_type": "code",
   "execution_count": 24,
   "metadata": {},
   "outputs": [
    {
     "data": {
      "text/html": [
       "<div>\n",
       "<style scoped>\n",
       "    .dataframe tbody tr th:only-of-type {\n",
       "        vertical-align: middle;\n",
       "    }\n",
       "\n",
       "    .dataframe tbody tr th {\n",
       "        vertical-align: top;\n",
       "    }\n",
       "\n",
       "    .dataframe thead th {\n",
       "        text-align: right;\n",
       "    }\n",
       "</style>\n",
       "<table border=\"1\" class=\"dataframe\">\n",
       "  <thead>\n",
       "    <tr style=\"text-align: right;\">\n",
       "      <th></th>\n",
       "      <th>Place</th>\n",
       "      <th>Gender</th>\n",
       "      <th>Age</th>\n",
       "      <th>Home</th>\n",
       "      <th>Time</th>\n",
       "      <th>Velocity</th>\n",
       "    </tr>\n",
       "  </thead>\n",
       "  <tbody>\n",
       "    <tr>\n",
       "      <th>764</th>\n",
       "      <td>54</td>\n",
       "      <td>Male</td>\n",
       "      <td>37</td>\n",
       "      <td>AK</td>\n",
       "      <td>147.333333</td>\n",
       "      <td>Veloz</td>\n",
       "    </tr>\n",
       "  </tbody>\n",
       "</table>\n",
       "</div>"
      ],
      "text/plain": [
       "     Place Gender  Age Home        Time Velocity\n",
       "764     54   Male   37   AK  147.333333    Veloz"
      ]
     },
     "execution_count": 24,
     "metadata": {},
     "output_type": "execute_result"
    }
   ],
   "source": [
    "dfScrappedCorredores.loc[dfScrappedCorredores['Time'] == dfScrappedCorredores['Time'].min()]"
   ]
  },
  {
   "cell_type": "markdown",
   "metadata": {},
   "source": [
    "Este sería el corredor mas rapido del evento que nos figura en nuestros datos. Es un corredor de origen **AK -> Alaska**, con una edad de **37 años**"
   ]
  },
  {
   "cell_type": "code",
   "execution_count": 25,
   "metadata": {},
   "outputs": [
    {
     "data": {
      "text/plain": [
       "<AxesSubplot: xlabel='Paises', ylabel='Tiempo de los corredores'>"
      ]
     },
     "execution_count": 25,
     "metadata": {},
     "output_type": "execute_result"
    },
    {
     "data": {
      "image/png": "[encoded data removed]",
      "text/plain": [
       "<Figure size 1500x500 with 1 Axes>"
      ]
     },
     "metadata": {},
     "output_type": "display_data"
    }
   ],
   "source": [
    "\"\"\"\n",
    "En este caso hacemos un 'sort_values' tomando como referencia la columna de tiempo.\n",
    "Copiamos el nuevo dataFrame y quitamos los duplicados de los Hogares de los corredores, quedando\n",
    "unicamente los mas rapidos.\n",
    "Esto ultimo lo hacemos con el metodo drop_duplicates()\n",
    "\"\"\"\n",
    "\n",
    "dfaux = dfScrappedCorredores.sort_values(by=['Time']).copy()\n",
    "dfaux.drop_duplicates(subset=[\"Home\"], keep=False).plot.bar(\n",
    "    x='Home',\n",
    "    y='Time',\n",
    "    color='forestgreen',\n",
    "    legend=False, \n",
    "    figsize=(15,5),\n",
    "    xlabel='Paises', \n",
    "    ylabel='Tiempo de los corredores')"
   ]
  },
  {
   "cell_type": "markdown",
   "metadata": {},
   "source": [
    "En este caso podemos observar que estos fueron los sitios con mejores tiempos en la carrera.  \n",
    "El **sitio con el mejor tiempo fue Alaska**, con un tiempo **menor de 150**"
   ]
  },
  {
   "cell_type": "markdown",
   "metadata": {},
   "source": [
    "### Relación entre la Posicion y el Tiempo ###\n",
    "\n",
    "En este caso podemos hacer un grafico de **scatter** en el que relacionamos la posicion y el tiempo de los corredores."
   ]
  },
  {
   "cell_type": "code",
   "execution_count": 26,
   "metadata": {},
   "outputs": [
    {
     "data": {
      "text/plain": [
       "<AxesSubplot: xlabel='Time', ylabel='Place'>"
      ]
     },
     "execution_count": 26,
     "metadata": {},
     "output_type": "execute_result"
    },
    {
     "data": {
      "image/png": "[encoded data removed]",
      "text/plain": [
       "<Figure size 640x480 with 1 Axes>"
      ]
     },
     "metadata": {},
     "output_type": "display_data"
    }
   ],
   "source": [
    "dfScrappedCorredores.plot.scatter(\n",
    "    x='Time',\n",
    "    y='Place',\n",
    "    c='DarkBlue')"
   ]
  },
  {
   "cell_type": "markdown",
   "metadata": {},
   "source": [
    "Lo que nos indica este grafico es que **los corredores con menor tiempo** en la carrera son los que **tienen una posicion menor**.  \n",
    "Este tipo de dato tiene sentido ya que existe esa relación entre la posicion que van a tener y el tiempo que tienen en la carrera.  \n",
    "Mientras **mayor el tiempo** que esten en la carrera, **mayor la posición** que tendran. "
   ]
  },
  {
   "cell_type": "markdown",
   "metadata": {},
   "source": [
    "### Relación entre el tiempo y la edad ###\n",
    "\n",
    "Vemos en el grafico de abajo la relacion entre la columna **Time** y la columna **Age** de los corredores.  \n",
    "Es observable que hay una gran cantidad de corredores que tuvieron un tiempo entre **200 y 350** y tienen una edad entre **20 y 60** años.  \n",
    "Hay una mayor concentración de corredores en ese que cumplen ese rango."
   ]
  },
  {
   "cell_type": "code",
   "execution_count": 27,
   "metadata": {},
   "outputs": [
    {
     "data": {
      "text/plain": [
       "<AxesSubplot: xlabel='Time', ylabel='Age'>"
      ]
     },
     "execution_count": 27,
     "metadata": {},
     "output_type": "execute_result"
    },
    {
     "data": {
      "image/png": "[encoded data removed]",
      "text/plain": [
       "<Figure size 640x480 with 1 Axes>"
      ]
     },
     "metadata": {},
     "output_type": "display_data"
    }
   ],
   "source": [
    "dfScrappedCorredores.plot.scatter(\n",
    "    x='Time',\n",
    "    y='Age',\n",
    "    c='seagreen')"
   ]
  },
  {
   "cell_type": "markdown",
   "metadata": {},
   "source": [
    "### Relación entre el tiempo y la edad por genero ###\n",
    "Ahora, podriamos ver el grafico anterior, pero diferenciando el genero de cada competidor."
   ]
  },
  {
   "cell_type": "code",
   "execution_count": 28,
   "metadata": {},
   "outputs": [
    {
     "data": {
      "image/png": "[encoded data removed]",
      "text/plain": [
       "<Figure size 640x480 with 1 Axes>"
      ]
     },
     "metadata": {},
     "output_type": "display_data"
    }
   ],
   "source": [
    "dfCorredoresHombres = dfScrappedCorredores[dfScrappedCorredores['Gender']=='Male'].copy()\n",
    "dfCorredoresMujeres = dfScrappedCorredores[dfScrappedCorredores['Gender']=='Female'].copy()\n",
    "plt.scatter(x=dfCorredoresHombres['Time'].to_numpy(),\n",
    "    y=dfCorredoresHombres['Age'].to_numpy(),\n",
    "    c='navy')\n",
    "plt.scatter(x=dfCorredoresMujeres['Time'].to_numpy(),\n",
    "    y=dfCorredoresMujeres['Age'].to_numpy(),\n",
    "    c='crimson')\n",
    "plt.show()"
   ]
  },
  {
   "cell_type": "markdown",
   "metadata": {},
   "source": [
    "Viendo el grafico de scatter de arriba podemos corroborar que **la mayoria de corrodedores con un tiempo menor a 200 son hombres**."
   ]
  },
  {
   "cell_type": "markdown",
   "metadata": {},
   "source": [
    "### Relación entre el sitio y la edad ###\n",
    "\n",
    "En esta situación se esperaba que haya una relación entre el sitio de los corredores y su edad. Pero vemos que no existe mucha relación. \n",
    "Existe una disperción bastante amplia. Gracias a esto podemos afirmar la poca relación que hay de la edad y el sitio de donde vienen en este evento."
   ]
  },
  {
   "cell_type": "code",
   "execution_count": 29,
   "metadata": {},
   "outputs": [
    {
     "data": {
      "text/plain": [
       "<AxesSubplot: xlabel='Place', ylabel='Age'>"
      ]
     },
     "execution_count": 29,
     "metadata": {},
     "output_type": "execute_result"
    },
    {
     "data": {
      "image/png": "[encoded data removed]",
      "text/plain": [
       "<Figure size 640x480 with 1 Axes>"
      ]
     },
     "metadata": {},
     "output_type": "display_data"
    }
   ],
   "source": [
    "dfScrappedCorredores.plot.scatter(\n",
    "    x='Place',\n",
    "    y='Age',\n",
    "    c='darkviolet')"
   ]
  },
  {
   "cell_type": "markdown",
   "metadata": {},
   "source": [
    "### Relación entre el tiempo, la edad y la posición ###\n",
    "\n",
    "Para este analisis vamos a ver la relación entre estas 3 variables, el tiempo, la edad y la posición.  \n",
    "Esto es mas que nada una observación tomando como referencia los graficos anteriores.  \n",
    "Con este grafico de scatter en 3D podemos ver incluso una visualizacion de los dos graficos superpuestos.  \n",
    "Ademas de poder identificar cuales fueron los mejores corredores del evento tomando estas tres variables.  "
   ]
  },
  {
   "cell_type": "code",
   "execution_count": 30,
   "metadata": {},
   "outputs": [
    {
     "data": {
      "image/png": "[encoded data removed]",
      "text/plain": [
       "<Figure size 640x480 with 1 Axes>"
      ]
     },
     "metadata": {},
     "output_type": "display_data"
    }
   ],
   "source": [
    "\"\"\"\n",
    "Vamos a usar una funcion del moodulo 'module' que se llama plotScatter3D\n",
    "Devuelve un grafico de scatter en 3D\n",
    "\"\"\"\n",
    "\n",
    "dff.plotScatter3D(dfaux,'Age','Time','Place',c='forestgreen',elev=20,azim=-15)"
   ]
  },
  {
   "cell_type": "code",
   "execution_count": 31,
   "metadata": {},
   "outputs": [
    {
     "data": {
      "image/png": "[encoded data removed]",
      "text/plain": [
       "<Figure size 640x480 with 1 Axes>"
      ]
     },
     "metadata": {},
     "output_type": "display_data"
    },
    {
     "data": {
      "text/plain": [
       "'\\nRelación entre la Posicion y el Tiempo\\n'"
      ]
     },
     "execution_count": 31,
     "metadata": {},
     "output_type": "execute_result"
    }
   ],
   "source": [
    "\n",
    "dff.plotScatter3D(dfaux,'Age','Time','Place',c='forestgreen',elev=0,azim=-0)\n",
    "\n",
    "\"\"\"\n",
    "Relación entre la Posicion y el Tiempo\n",
    "\"\"\""
   ]
  },
  {
   "cell_type": "code",
   "execution_count": 32,
   "metadata": {},
   "outputs": [
    {
     "data": {
      "image/png": "[encoded data removed]",
      "text/plain": [
       "<Figure size 640x480 with 1 Axes>"
      ]
     },
     "metadata": {},
     "output_type": "display_data"
    },
    {
     "data": {
      "text/plain": [
       "'\\nRelación entre la Edad y el Tiempo\\n'"
      ]
     },
     "execution_count": 32,
     "metadata": {},
     "output_type": "execute_result"
    }
   ],
   "source": [
    "\n",
    "dff.plotScatter3D(dfaux,'Age','Time','Place',c='forestgreen',elev=90,azim=-90)\n",
    "\n",
    "\"\"\"\n",
    "Relación entre la Edad y el Tiempo\n",
    "\"\"\""
   ]
  },
  {
   "cell_type": "markdown",
   "metadata": {},
   "source": [
    "Tomando estos 3 graficos podemos deducir que los **corredores mas veloces** tuvieron:  \n",
    "-   Un **tiempo menor a 200**  \n",
    "-   Las edades de ellos es entre **20 y 70 años**  \n",
    "-   Tuvieron **posiciones cercanos a 0**"
   ]
  },
  {
   "cell_type": "markdown",
   "metadata": {},
   "source": [
    "**--------------------------------------------------------------------------------------------------------------------------------------------------------------------------------**"
   ]
  },
  {
   "cell_type": "markdown",
   "metadata": {},
   "source": [
    "## Machine Learning - Regresión ##\n",
    "\n",
    "En este caso lo que vamos a buscar es desarrollar un sistema predictivo con Machine Learning usando **sklearn**. Para este caso, usaremos el metodo de **regresión**.  \n",
    "\n",
    "Para esto, necesitamos tomar **variables independientes** (datos visibles, que vemos que no dependen de otro valor) y **las variables dependientes** (aquellos que si dependen de las variables independientes, son los que trataremos de predecir).  \n",
    "Uno de los datos que se planteo de tomar como variable dependiente es la **Velocidad**. Pero, el problema con tomar la velocidad como variable dependiente es la simpleza de la predictividad de esta.  \n",
    "La velocidad está definida por el tiempo del corredor, no hay datos que predecir, es algo estricto definido por algo que mencionamos con anterioridad:  \n",
    "\n",
    "- Si el corredor tuvo un **tiempo mayor o igual a 300**, es considerado **Lento**  \n",
    "- Si el corredor tuvo un **tiempo mayor o igual a 200**, es considerado **Regular**  \n",
    "- Si el corredor tuvo un **tiempo menor a 200**, es considerado **Veloz**  \n",
    "\n",
    "Por lo tanto, **descartaremos la velocidad como variable independiente**.  \n",
    "La realidad es que no se predice la **velocidad del corredor**, sino que **se obtiene de forma condicional**.\n",
    "\n",
    "Otro valor que **no tendremos en cuenta** es el **genero**. El genero, aunque influya en cierta forma al tiempo del corredor, por lo visto en uno de los graficos anteriores, y que en consecuencia afecte su posicion, no se tomara en cuenta debido a:\n",
    "-   La diferencia de cantidad de hombres y mujeres en la carrera.\n",
    "-   La fuerte relación que hay entre la posición y los tiempos.\n",
    "\n",
    "Entonces ¿Cúal sería la variable dependiente? Otra opcion es tomar a la posición como variable dependiente, pues, aunque represente posición*, pudimos ver con anterioridad que existe una relación muy fuerte entre el tiempo y la posición tras completar la carrera.  \n",
    "\n",
    "La posición es relativo al tiempo que estuvo en la carrera un competidor, por lo que podemos tomarlo como una variable dependiente.  \n",
    "Tomando esto como referencia tomaremos la **posición del competidor** como la **variable dependiente**.  \n",
    "\n",
    "Debido a esto, tomaremos como **variable independiente** al **tiempo del competidor**.\n",
    "\n",
    "**La posicion, segun la consigna del trabajo practico, puede implicar un orden en los competidores, por lo que deberiamos desestimarlo. de todas formas, en este caso, parece un dato que puede ser predecible y evaluable*"
   ]
  },
  {
   "cell_type": "markdown",
   "metadata": {},
   "source": [
    "### Variables ###\n"
   ]
  },
  {
   "cell_type": "markdown",
   "metadata": {},
   "source": [
    "Creamos una nuevo dataFrame que llamaremos **dfaux**.  \n",
    "Será un dataFrame auxiliar al que iremos cargando y modoficiando a lo largo de esta parte."
   ]
  },
  {
   "cell_type": "code",
   "execution_count": 33,
   "metadata": {},
   "outputs": [
    {
     "data": {
      "text/html": [
       "<div>\n",
       "<style scoped>\n",
       "    .dataframe tbody tr th:only-of-type {\n",
       "        vertical-align: middle;\n",
       "    }\n",
       "\n",
       "    .dataframe tbody tr th {\n",
       "        vertical-align: top;\n",
       "    }\n",
       "\n",
       "    .dataframe thead th {\n",
       "        text-align: right;\n",
       "    }\n",
       "</style>\n",
       "<table border=\"1\" class=\"dataframe\">\n",
       "  <thead>\n",
       "    <tr style=\"text-align: right;\">\n",
       "      <th></th>\n",
       "      <th>Place</th>\n",
       "      <th>Gender</th>\n",
       "      <th>Age</th>\n",
       "      <th>Time</th>\n",
       "      <th>Velocity</th>\n",
       "    </tr>\n",
       "  </thead>\n",
       "  <tbody>\n",
       "    <tr>\n",
       "      <th>0</th>\n",
       "      <td>3592</td>\n",
       "      <td>Male</td>\n",
       "      <td>52</td>\n",
       "      <td>217.483333</td>\n",
       "      <td>Regular</td>\n",
       "    </tr>\n",
       "    <tr>\n",
       "      <th>1</th>\n",
       "      <td>13853</td>\n",
       "      <td>Female</td>\n",
       "      <td>40</td>\n",
       "      <td>272.550000</td>\n",
       "      <td>Regular</td>\n",
       "    </tr>\n",
       "    <tr>\n",
       "      <th>2</th>\n",
       "      <td>12256</td>\n",
       "      <td>Male</td>\n",
       "      <td>31</td>\n",
       "      <td>265.283333</td>\n",
       "      <td>Regular</td>\n",
       "    </tr>\n",
       "    <tr>\n",
       "      <th>3</th>\n",
       "      <td>10457</td>\n",
       "      <td>Female</td>\n",
       "      <td>33</td>\n",
       "      <td>256.150000</td>\n",
       "      <td>Regular</td>\n",
       "    </tr>\n",
       "    <tr>\n",
       "      <th>4</th>\n",
       "      <td>9686</td>\n",
       "      <td>Male</td>\n",
       "      <td>33</td>\n",
       "      <td>252.250000</td>\n",
       "      <td>Regular</td>\n",
       "    </tr>\n",
       "    <tr>\n",
       "      <th>...</th>\n",
       "      <td>...</td>\n",
       "      <td>...</td>\n",
       "      <td>...</td>\n",
       "      <td>...</td>\n",
       "      <td>...</td>\n",
       "    </tr>\n",
       "    <tr>\n",
       "      <th>995</th>\n",
       "      <td>16261</td>\n",
       "      <td>Male</td>\n",
       "      <td>61</td>\n",
       "      <td>285.883333</td>\n",
       "      <td>Regular</td>\n",
       "    </tr>\n",
       "    <tr>\n",
       "      <th>996</th>\n",
       "      <td>1131</td>\n",
       "      <td>Male</td>\n",
       "      <td>37</td>\n",
       "      <td>191.916667</td>\n",
       "      <td>Veloz</td>\n",
       "    </tr>\n",
       "    <tr>\n",
       "      <th>997</th>\n",
       "      <td>16713</td>\n",
       "      <td>Female</td>\n",
       "      <td>53</td>\n",
       "      <td>289.016667</td>\n",
       "      <td>Regular</td>\n",
       "    </tr>\n",
       "    <tr>\n",
       "      <th>998</th>\n",
       "      <td>14241</td>\n",
       "      <td>Female</td>\n",
       "      <td>21</td>\n",
       "      <td>276.050000</td>\n",
       "      <td>Regular</td>\n",
       "    </tr>\n",
       "    <tr>\n",
       "      <th>999</th>\n",
       "      <td>8726</td>\n",
       "      <td>Male</td>\n",
       "      <td>55</td>\n",
       "      <td>240.966667</td>\n",
       "      <td>Regular</td>\n",
       "    </tr>\n",
       "  </tbody>\n",
       "</table>\n",
       "<p>999 rows × 5 columns</p>\n",
       "</div>"
      ],
      "text/plain": [
       "     Place  Gender  Age        Time Velocity\n",
       "0     3592    Male   52  217.483333  Regular\n",
       "1    13853  Female   40  272.550000  Regular\n",
       "2    12256    Male   31  265.283333  Regular\n",
       "3    10457  Female   33  256.150000  Regular\n",
       "4     9686    Male   33  252.250000  Regular\n",
       "..     ...     ...  ...         ...      ...\n",
       "995  16261    Male   61  285.883333  Regular\n",
       "996   1131    Male   37  191.916667    Veloz\n",
       "997  16713  Female   53  289.016667  Regular\n",
       "998  14241  Female   21  276.050000  Regular\n",
       "999   8726    Male   55  240.966667  Regular\n",
       "\n",
       "[999 rows x 5 columns]"
      ]
     },
     "execution_count": 33,
     "metadata": {},
     "output_type": "execute_result"
    }
   ],
   "source": [
    "dfaux = dfScrappedCorredores.copy()\n",
    "dfaux.pop('Home')\n",
    "dfaux"
   ]
  },
  {
   "cell_type": "markdown",
   "metadata": {},
   "source": [
    "#### Variable independiente ####\n",
    "Extraemos la variable independiente con el atributo `iloc`, que nos dara la fila que estamos buscando.  \n",
    "Este es el parametro de sliccing que vamos a usar para el **iloc** -> [:,3:-1]  \n",
    "-   En la primer parte antes de la coma estamos tomando todos los elementos del dataFrame\n",
    "-   En la segunda parte estamos tomando la columna de indice 3, y que cree una nueva columna luego de tomarla\n",
    "-   Luego hacemos un reshape para acomodar el nparray"
   ]
  },
  {
   "cell_type": "code",
   "execution_count": 34,
   "metadata": {},
   "outputs": [],
   "source": [
    "X=dfaux.iloc[:, 3:-1].values.reshape(-1,1)"
   ]
  },
  {
   "cell_type": "markdown",
   "metadata": {},
   "source": [
    "#### Variable dependiente ####\n",
    "Hacemos lo mismo que con la variable independiente, pero esta ves lo ubicamos en el **indice 0**"
   ]
  },
  {
   "cell_type": "code",
   "execution_count": 35,
   "metadata": {},
   "outputs": [],
   "source": [
    "\n",
    "Y=dfaux.iloc[:,0].values.reshape(-1,1)"
   ]
  },
  {
   "cell_type": "markdown",
   "metadata": {},
   "source": [
    "#### Escala ####\n",
    "Ahora debemos de acomodar los valores que estan presentes en ambas variables.  \n",
    "Ambas variables presentan valores que son muy dispares, por lo que necesitamos de modificarlos a una escala fija.  \n",
    "Por eso, usaremos uno de las clases que nos aporta sklearn que se llama `StandarScaler()`, y apartir de ahí modificaremos los datos de las variables a valores mas chicos.  \n",
    "Para esto, usaremos uno de los metodos que nos otorga el Scaler, este se llama `fit_transform()`."
   ]
  },
  {
   "cell_type": "code",
   "execution_count": 36,
   "metadata": {},
   "outputs": [],
   "source": [
    "sc = StandardScaler()\n",
    "X = sc.fit_transform(X)\n",
    "Y = sc.fit_transform(Y)"
   ]
  },
  {
   "cell_type": "markdown",
   "metadata": {},
   "source": [
    "Ahora, usaremos estos nuevos datos, y los pasaremos en el **dfaux** que teniamos para poder verlos."
   ]
  },
  {
   "cell_type": "code",
   "execution_count": 37,
   "metadata": {},
   "outputs": [
    {
     "data": {
      "text/html": [
       "<div>\n",
       "<style scoped>\n",
       "    .dataframe tbody tr th:only-of-type {\n",
       "        vertical-align: middle;\n",
       "    }\n",
       "\n",
       "    .dataframe tbody tr th {\n",
       "        vertical-align: top;\n",
       "    }\n",
       "\n",
       "    .dataframe thead th {\n",
       "        text-align: right;\n",
       "    }\n",
       "</style>\n",
       "<table border=\"1\" class=\"dataframe\">\n",
       "  <thead>\n",
       "    <tr style=\"text-align: right;\">\n",
       "      <th></th>\n",
       "      <th>X</th>\n",
       "      <th>Y</th>\n",
       "    </tr>\n",
       "  </thead>\n",
       "  <tbody>\n",
       "    <tr>\n",
       "      <th>0</th>\n",
       "      <td>-0.953555</td>\n",
       "      <td>-1.224345</td>\n",
       "    </tr>\n",
       "    <tr>\n",
       "      <th>1</th>\n",
       "      <td>0.074962</td>\n",
       "      <td>0.272370</td>\n",
       "    </tr>\n",
       "    <tr>\n",
       "      <th>2</th>\n",
       "      <td>-0.060763</td>\n",
       "      <td>0.039425</td>\n",
       "    </tr>\n",
       "    <tr>\n",
       "      <th>3</th>\n",
       "      <td>-0.231352</td>\n",
       "      <td>-0.222985</td>\n",
       "    </tr>\n",
       "    <tr>\n",
       "      <th>4</th>\n",
       "      <td>-0.304195</td>\n",
       "      <td>-0.335447</td>\n",
       "    </tr>\n",
       "    <tr>\n",
       "      <th>5</th>\n",
       "      <td>-1.243371</td>\n",
       "      <td>-1.488068</td>\n",
       "    </tr>\n",
       "    <tr>\n",
       "      <th>6</th>\n",
       "      <td>0.280728</td>\n",
       "      <td>0.588459</td>\n",
       "    </tr>\n",
       "    <tr>\n",
       "      <th>7</th>\n",
       "      <td>-0.236333</td>\n",
       "      <td>-0.172224</td>\n",
       "    </tr>\n",
       "    <tr>\n",
       "      <th>8</th>\n",
       "      <td>-0.080063</td>\n",
       "      <td>0.031402</td>\n",
       "    </tr>\n",
       "    <tr>\n",
       "      <th>9</th>\n",
       "      <td>0.712493</td>\n",
       "      <td>1.061935</td>\n",
       "    </tr>\n",
       "  </tbody>\n",
       "</table>\n",
       "</div>"
      ],
      "text/plain": [
       "          X         Y\n",
       "0 -0.953555 -1.224345\n",
       "1  0.074962  0.272370\n",
       "2 -0.060763  0.039425\n",
       "3 -0.231352 -0.222985\n",
       "4 -0.304195 -0.335447\n",
       "5 -1.243371 -1.488068\n",
       "6  0.280728  0.588459\n",
       "7 -0.236333 -0.172224\n",
       "8 -0.080063  0.031402\n",
       "9  0.712493  1.061935"
      ]
     },
     "execution_count": 37,
     "metadata": {},
     "output_type": "execute_result"
    }
   ],
   "source": [
    "dfaux = pd.DataFrame({'X': X.flatten(), 'Y': Y.flatten()})\n",
    "dfaux.head(10)"
   ]
  },
  {
   "cell_type": "markdown",
   "metadata": {},
   "source": [
    "### Variables Train y Test ###"
   ]
  },
  {
   "cell_type": "markdown",
   "metadata": {},
   "source": [
    "Ya tenemos las variables dependientes e independientes.  \n",
    "Procedamos a crear las variables Train y Test de cada una para hacer el metodo predictivo.\n",
    "Para esto, usaremos una de las funciones de **sklearn** que se llama `train_test_split()`.  \n",
    "Esta funcion nos permite separa en 4 variables las variables que ya poseiamos, X e Y (independiente y dependiente respectivamente).  \n",
    "En uno de los parametros que indica `test_size` colocamos **0.2**, o sea que tomaremos el **20%** de los datos de las variables y las separaremos en dos partes.  \n",
    "Uno el **20%** ira a las **variables test** y el **80%** ira a las **variables train**.  \n",
    "Se trabajará con el 80% de los datos de training para poder predecir los resultados del `Y_test`."
   ]
  },
  {
   "cell_type": "code",
   "execution_count": 38,
   "metadata": {},
   "outputs": [],
   "source": [
    "X_train, X_test, Y_train, Y_test = train_test_split(X,Y,test_size= 0.2, random_state=0)"
   ]
  },
  {
   "cell_type": "markdown",
   "metadata": {},
   "source": [
    "Debajo podemos ver que estamos usando nuevamente el dataFrame **dfaux** y almacenando los datos de las **variables Train**"
   ]
  },
  {
   "cell_type": "code",
   "execution_count": 39,
   "metadata": {},
   "outputs": [
    {
     "data": {
      "text/html": [
       "<div>\n",
       "<style scoped>\n",
       "    .dataframe tbody tr th:only-of-type {\n",
       "        vertical-align: middle;\n",
       "    }\n",
       "\n",
       "    .dataframe tbody tr th {\n",
       "        vertical-align: top;\n",
       "    }\n",
       "\n",
       "    .dataframe thead th {\n",
       "        text-align: right;\n",
       "    }\n",
       "</style>\n",
       "<table border=\"1\" class=\"dataframe\">\n",
       "  <thead>\n",
       "    <tr style=\"text-align: right;\">\n",
       "      <th></th>\n",
       "      <th>X_train</th>\n",
       "      <th>y_train</th>\n",
       "    </tr>\n",
       "  </thead>\n",
       "  <tbody>\n",
       "    <tr>\n",
       "      <th>0</th>\n",
       "      <td>0.519179</td>\n",
       "      <td>0.876833</td>\n",
       "    </tr>\n",
       "    <tr>\n",
       "      <th>1</th>\n",
       "      <td>-0.485991</td>\n",
       "      <td>-0.574956</td>\n",
       "    </tr>\n",
       "    <tr>\n",
       "      <th>2</th>\n",
       "      <td>-0.263104</td>\n",
       "      <td>-0.318818</td>\n",
       "    </tr>\n",
       "    <tr>\n",
       "      <th>3</th>\n",
       "      <td>0.769149</td>\n",
       "      <td>1.108466</td>\n",
       "    </tr>\n",
       "    <tr>\n",
       "      <th>4</th>\n",
       "      <td>-0.214542</td>\n",
       "      <td>-0.155450</td>\n",
       "    </tr>\n",
       "    <tr>\n",
       "      <th>5</th>\n",
       "      <td>-0.780787</td>\n",
       "      <td>-1.002339</td>\n",
       "    </tr>\n",
       "    <tr>\n",
       "      <th>6</th>\n",
       "      <td>-0.173763</td>\n",
       "      <td>-0.110232</td>\n",
       "    </tr>\n",
       "    <tr>\n",
       "      <th>7</th>\n",
       "      <td>-0.387933</td>\n",
       "      <td>-0.432884</td>\n",
       "    </tr>\n",
       "    <tr>\n",
       "      <th>8</th>\n",
       "      <td>-0.922737</td>\n",
       "      <td>-1.201152</td>\n",
       "    </tr>\n",
       "    <tr>\n",
       "      <th>9</th>\n",
       "      <td>-0.436184</td>\n",
       "      <td>-0.501732</td>\n",
       "    </tr>\n",
       "    <tr>\n",
       "      <th>10</th>\n",
       "      <td>-1.368200</td>\n",
       "      <td>-1.543059</td>\n",
       "    </tr>\n",
       "    <tr>\n",
       "      <th>11</th>\n",
       "      <td>0.312791</td>\n",
       "      <td>0.717549</td>\n",
       "    </tr>\n",
       "    <tr>\n",
       "      <th>12</th>\n",
       "      <td>-0.849583</td>\n",
       "      <td>-1.080377</td>\n",
       "    </tr>\n",
       "    <tr>\n",
       "      <th>13</th>\n",
       "      <td>0.535367</td>\n",
       "      <td>0.888356</td>\n",
       "    </tr>\n",
       "    <tr>\n",
       "      <th>14</th>\n",
       "      <td>-0.276178</td>\n",
       "      <td>-0.147865</td>\n",
       "    </tr>\n",
       "  </tbody>\n",
       "</table>\n",
       "</div>"
      ],
      "text/plain": [
       "     X_train   y_train\n",
       "0   0.519179  0.876833\n",
       "1  -0.485991 -0.574956\n",
       "2  -0.263104 -0.318818\n",
       "3   0.769149  1.108466\n",
       "4  -0.214542 -0.155450\n",
       "5  -0.780787 -1.002339\n",
       "6  -0.173763 -0.110232\n",
       "7  -0.387933 -0.432884\n",
       "8  -0.922737 -1.201152\n",
       "9  -0.436184 -0.501732\n",
       "10 -1.368200 -1.543059\n",
       "11  0.312791  0.717549\n",
       "12 -0.849583 -1.080377\n",
       "13  0.535367  0.888356\n",
       "14 -0.276178 -0.147865"
      ]
     },
     "execution_count": 39,
     "metadata": {},
     "output_type": "execute_result"
    }
   ],
   "source": [
    "dfaux = pd.DataFrame({'X_train': X_train.flatten(), 'y_train': Y_train.flatten()})\n",
    "dfaux.head(15)"
   ]
  },
  {
   "cell_type": "markdown",
   "metadata": {},
   "source": [
    "Ahora haremos lo mismo que el anterior pero caso pero con las **variables Test**"
   ]
  },
  {
   "cell_type": "code",
   "execution_count": 40,
   "metadata": {},
   "outputs": [
    {
     "data": {
      "text/html": [
       "<div>\n",
       "<style scoped>\n",
       "    .dataframe tbody tr th:only-of-type {\n",
       "        vertical-align: middle;\n",
       "    }\n",
       "\n",
       "    .dataframe tbody tr th {\n",
       "        vertical-align: top;\n",
       "    }\n",
       "\n",
       "    .dataframe thead th {\n",
       "        text-align: right;\n",
       "    }\n",
       "</style>\n",
       "<table border=\"1\" class=\"dataframe\">\n",
       "  <thead>\n",
       "    <tr style=\"text-align: right;\">\n",
       "      <th></th>\n",
       "      <th>X_test</th>\n",
       "      <th>y_test</th>\n",
       "    </tr>\n",
       "  </thead>\n",
       "  <tbody>\n",
       "    <tr>\n",
       "      <th>0</th>\n",
       "      <td>-0.430581</td>\n",
       "      <td>-0.544616</td>\n",
       "    </tr>\n",
       "    <tr>\n",
       "      <th>1</th>\n",
       "      <td>0.990168</td>\n",
       "      <td>1.269646</td>\n",
       "    </tr>\n",
       "    <tr>\n",
       "      <th>2</th>\n",
       "      <td>-0.546693</td>\n",
       "      <td>-0.638407</td>\n",
       "    </tr>\n",
       "    <tr>\n",
       "      <th>3</th>\n",
       "      <td>0.378163</td>\n",
       "      <td>0.713756</td>\n",
       "    </tr>\n",
       "    <tr>\n",
       "      <th>4</th>\n",
       "      <td>3.863106</td>\n",
       "      <td>1.697320</td>\n",
       "    </tr>\n",
       "    <tr>\n",
       "      <th>5</th>\n",
       "      <td>-0.851451</td>\n",
       "      <td>-1.132888</td>\n",
       "    </tr>\n",
       "    <tr>\n",
       "      <th>6</th>\n",
       "      <td>-0.895655</td>\n",
       "      <td>-1.191963</td>\n",
       "    </tr>\n",
       "    <tr>\n",
       "      <th>7</th>\n",
       "      <td>-1.811172</td>\n",
       "      <td>-1.699425</td>\n",
       "    </tr>\n",
       "    <tr>\n",
       "      <th>8</th>\n",
       "      <td>1.223016</td>\n",
       "      <td>1.409238</td>\n",
       "    </tr>\n",
       "    <tr>\n",
       "      <th>9</th>\n",
       "      <td>0.697862</td>\n",
       "      <td>1.107882</td>\n",
       "    </tr>\n",
       "    <tr>\n",
       "      <th>10</th>\n",
       "      <td>-1.262048</td>\n",
       "      <td>-1.498862</td>\n",
       "    </tr>\n",
       "    <tr>\n",
       "      <th>11</th>\n",
       "      <td>2.079076</td>\n",
       "      <td>1.598570</td>\n",
       "    </tr>\n",
       "    <tr>\n",
       "      <th>12</th>\n",
       "      <td>-0.143878</td>\n",
       "      <td>-0.114608</td>\n",
       "    </tr>\n",
       "    <tr>\n",
       "      <th>13</th>\n",
       "      <td>-0.279603</td>\n",
       "      <td>-0.349742</td>\n",
       "    </tr>\n",
       "    <tr>\n",
       "      <th>14</th>\n",
       "      <td>0.382521</td>\n",
       "      <td>0.689543</td>\n",
       "    </tr>\n",
       "  </tbody>\n",
       "</table>\n",
       "</div>"
      ],
      "text/plain": [
       "      X_test    y_test\n",
       "0  -0.430581 -0.544616\n",
       "1   0.990168  1.269646\n",
       "2  -0.546693 -0.638407\n",
       "3   0.378163  0.713756\n",
       "4   3.863106  1.697320\n",
       "5  -0.851451 -1.132888\n",
       "6  -0.895655 -1.191963\n",
       "7  -1.811172 -1.699425\n",
       "8   1.223016  1.409238\n",
       "9   0.697862  1.107882\n",
       "10 -1.262048 -1.498862\n",
       "11  2.079076  1.598570\n",
       "12 -0.143878 -0.114608\n",
       "13 -0.279603 -0.349742\n",
       "14  0.382521  0.689543"
      ]
     },
     "execution_count": 40,
     "metadata": {},
     "output_type": "execute_result"
    }
   ],
   "source": [
    "dfaux = pd.DataFrame({'X_test': X_test.flatten(), 'y_test': Y_test.flatten()})\n",
    "dfaux.head(15)"
   ]
  },
  {
   "cell_type": "markdown",
   "metadata": {},
   "source": [
    "### Regresión Lineal Simple ###"
   ]
  },
  {
   "cell_type": "markdown",
   "metadata": {},
   "source": [
    "Para el metodo de regresión trabajaremos con la regresión lineal simple.  \n",
    "Para esto, usaremos la clase `LinearRegresion()` de sklearn.  \n",
    "Esto nos devolverá un objeto que almacenaremos en **LinearModel**.  \n",
    "Para poder \"entrenar\" este modelo, trabajará con con las variables Train que generamos previamente utilizando el metodo `fit()`."
   ]
  },
  {
   "cell_type": "code",
   "execution_count": 41,
   "metadata": {},
   "outputs": [
    {
     "data": {
      "text/html": [
       "<style>#sk-container-id-1 {color: black;background-color: white;}#sk-container-id-1 pre{padding: 0;}#sk-container-id-1 div.sk-toggleable {background-color: white;}#sk-container-id-1 label.sk-toggleable__label {cursor: pointer;display: block;width: 100%;margin-bottom: 0;padding: 0.3em;box-sizing: border-box;text-align: center;}#sk-container-id-1 label.sk-toggleable__label-arrow:before {content: \"▸\";float: left;margin-right: 0.25em;color: #696969;}#sk-container-id-1 label.sk-toggleable__label-arrow:hover:before {color: black;}#sk-container-id-1 div.sk-estimator:hover label.sk-toggleable__label-arrow:before {color: black;}#sk-container-id-1 div.sk-toggleable__content {max-height: 0;max-width: 0;overflow: hidden;text-align: left;background-color: #f0f8ff;}#sk-container-id-1 div.sk-toggleable__content pre {margin: 0.2em;color: black;border-radius: 0.25em;background-color: #f0f8ff;}#sk-container-id-1 input.sk-toggleable__control:checked~div.sk-toggleable__content {max-height: 200px;max-width: 100%;overflow: auto;}#sk-container-id-1 input.sk-toggleable__control:checked~label.sk-toggleable__label-arrow:before {content: \"▾\";}#sk-container-id-1 div.sk-estimator input.sk-toggleable__control:checked~label.sk-toggleable__label {background-color: #d4ebff;}#sk-container-id-1 div.sk-label input.sk-toggleable__control:checked~label.sk-toggleable__label {background-color: #d4ebff;}#sk-container-id-1 input.sk-hidden--visually {border: 0;clip: rect(1px 1px 1px 1px);clip: rect(1px, 1px, 1px, 1px);height: 1px;margin: -1px;overflow: hidden;padding: 0;position: absolute;width: 1px;}#sk-container-id-1 div.sk-estimator {font-family: monospace;background-color: #f0f8ff;border: 1px dotted black;border-radius: 0.25em;box-sizing: border-box;margin-bottom: 0.5em;}#sk-container-id-1 div.sk-estimator:hover {background-color: #d4ebff;}#sk-container-id-1 div.sk-parallel-item::after {content: \"\";width: 100%;border-bottom: 1px solid gray;flex-grow: 1;}#sk-container-id-1 div.sk-label:hover label.sk-toggleable__label {background-color: #d4ebff;}#sk-container-id-1 div.sk-serial::before {content: \"\";position: absolute;border-left: 1px solid gray;box-sizing: border-box;top: 0;bottom: 0;left: 50%;z-index: 0;}#sk-container-id-1 div.sk-serial {display: flex;flex-direction: column;align-items: center;background-color: white;padding-right: 0.2em;padding-left: 0.2em;position: relative;}#sk-container-id-1 div.sk-item {position: relative;z-index: 1;}#sk-container-id-1 div.sk-parallel {display: flex;align-items: stretch;justify-content: center;background-color: white;position: relative;}#sk-container-id-1 div.sk-item::before, #sk-container-id-1 div.sk-parallel-item::before {content: \"\";position: absolute;border-left: 1px solid gray;box-sizing: border-box;top: 0;bottom: 0;left: 50%;z-index: -1;}#sk-container-id-1 div.sk-parallel-item {display: flex;flex-direction: column;z-index: 1;position: relative;background-color: white;}#sk-container-id-1 div.sk-parallel-item:first-child::after {align-self: flex-end;width: 50%;}#sk-container-id-1 div.sk-parallel-item:last-child::after {align-self: flex-start;width: 50%;}#sk-container-id-1 div.sk-parallel-item:only-child::after {width: 0;}#sk-container-id-1 div.sk-dashed-wrapped {border: 1px dashed gray;margin: 0 0.4em 0.5em 0.4em;box-sizing: border-box;padding-bottom: 0.4em;background-color: white;}#sk-container-id-1 div.sk-label label {font-family: monospace;font-weight: bold;display: inline-block;line-height: 1.2em;}#sk-container-id-1 div.sk-label-container {text-align: center;}#sk-container-id-1 div.sk-container {/* jupyter's `normalize.less` sets `[hidden] { display: none; }` but bootstrap.min.css set `[hidden] { display: none !important; }` so we also need the `!important` here to be able to override the default hidden behavior on the sphinx rendered scikit-learn.org. See: https://github.com/scikit-learn/scikit-learn/issues/21755 */display: inline-block !important;position: relative;}#sk-container-id-1 div.sk-text-repr-fallback {display: none;}</style><div id=\"sk-container-id-1\" class=\"sk-top-container\"><div class=\"sk-text-repr-fallback\"><pre>LinearRegression()</pre><b>In a Jupyter environment, please rerun this cell to show the HTML representation or trust the notebook. <br />On GitHub, the HTML representation is unable to render, please try loading this page with nbviewer.org.</b></div><div class=\"sk-container\" hidden><div class=\"sk-item\"><div class=\"sk-estimator sk-toggleable\"><input class=\"sk-toggleable__control sk-hidden--visually\" id=\"sk-estimator-id-1\" type=\"checkbox\" checked><label for=\"sk-estimator-id-1\" class=\"sk-toggleable__label sk-toggleable__label-arrow\">LinearRegression</label><div class=\"sk-toggleable__content\"><pre>LinearRegression()</pre></div></div></div></div></div>"
      ],
      "text/plain": [
       "LinearRegression()"
      ]
     },
     "execution_count": 41,
     "metadata": {},
     "output_type": "execute_result"
    }
   ],
   "source": [
    "linearModel = LinearRegression() \n",
    "linearModel.fit(X_train, Y_train)"
   ]
  },
  {
   "cell_type": "markdown",
   "metadata": {},
   "source": [
    "#### Predict() y comparacion con el Test ####"
   ]
  },
  {
   "cell_type": "markdown",
   "metadata": {},
   "source": [
    "Ahora que pudimos \"Entrenar\" al modelo que que generamos, vamos a seguir con la **preccion del Y_test**.  \n",
    "Para hacer esto vamos a trabajar con el metodo `predict()` que nos dará una predicción de los datos de **Y_test** dandole por paramero **X_test**.  \n",
    "El resultado de esta predicción la guardaremos en **y_pred**, que sería la **predicción de y**."
   ]
  },
  {
   "cell_type": "code",
   "execution_count": 42,
   "metadata": {},
   "outputs": [],
   "source": [
    "y_pred = linearModel.predict(X_test)"
   ]
  },
  {
   "cell_type": "markdown",
   "metadata": {},
   "source": [
    "Debajo se puede ver en un dataFrame el **Y_test** y el **y_pred**"
   ]
  },
  {
   "cell_type": "code",
   "execution_count": 43,
   "metadata": {},
   "outputs": [
    {
     "data": {
      "text/html": [
       "<div>\n",
       "<style scoped>\n",
       "    .dataframe tbody tr th:only-of-type {\n",
       "        vertical-align: middle;\n",
       "    }\n",
       "\n",
       "    .dataframe tbody tr th {\n",
       "        vertical-align: top;\n",
       "    }\n",
       "\n",
       "    .dataframe thead th {\n",
       "        text-align: right;\n",
       "    }\n",
       "</style>\n",
       "<table border=\"1\" class=\"dataframe\">\n",
       "  <thead>\n",
       "    <tr style=\"text-align: right;\">\n",
       "      <th></th>\n",
       "      <th>Actual</th>\n",
       "      <th>Predicted</th>\n",
       "    </tr>\n",
       "  </thead>\n",
       "  <tbody>\n",
       "    <tr>\n",
       "      <th>0</th>\n",
       "      <td>-0.544616</td>\n",
       "      <td>-0.399886</td>\n",
       "    </tr>\n",
       "    <tr>\n",
       "      <th>1</th>\n",
       "      <td>1.269646</td>\n",
       "      <td>0.910737</td>\n",
       "    </tr>\n",
       "    <tr>\n",
       "      <th>2</th>\n",
       "      <td>-0.638407</td>\n",
       "      <td>-0.506999</td>\n",
       "    </tr>\n",
       "    <tr>\n",
       "      <th>3</th>\n",
       "      <td>0.713756</td>\n",
       "      <td>0.346170</td>\n",
       "    </tr>\n",
       "    <tr>\n",
       "      <th>4</th>\n",
       "      <td>1.697320</td>\n",
       "      <td>3.560989</td>\n",
       "    </tr>\n",
       "    <tr>\n",
       "      <th>5</th>\n",
       "      <td>-1.132888</td>\n",
       "      <td>-0.788134</td>\n",
       "    </tr>\n",
       "    <tr>\n",
       "      <th>6</th>\n",
       "      <td>-1.191963</td>\n",
       "      <td>-0.828912</td>\n",
       "    </tr>\n",
       "    <tr>\n",
       "      <th>7</th>\n",
       "      <td>-1.699425</td>\n",
       "      <td>-1.673466</td>\n",
       "    </tr>\n",
       "    <tr>\n",
       "      <th>8</th>\n",
       "      <td>1.409238</td>\n",
       "      <td>1.125537</td>\n",
       "    </tr>\n",
       "    <tr>\n",
       "      <th>9</th>\n",
       "      <td>1.107882</td>\n",
       "      <td>0.641089</td>\n",
       "    </tr>\n",
       "    <tr>\n",
       "      <th>10</th>\n",
       "      <td>-1.498862</td>\n",
       "      <td>-1.166906</td>\n",
       "    </tr>\n",
       "    <tr>\n",
       "      <th>11</th>\n",
       "      <td>1.598570</td>\n",
       "      <td>1.915243</td>\n",
       "    </tr>\n",
       "    <tr>\n",
       "      <th>12</th>\n",
       "      <td>-0.114608</td>\n",
       "      <td>-0.135407</td>\n",
       "    </tr>\n",
       "    <tr>\n",
       "      <th>13</th>\n",
       "      <td>-0.349742</td>\n",
       "      <td>-0.260611</td>\n",
       "    </tr>\n",
       "    <tr>\n",
       "      <th>14</th>\n",
       "      <td>0.689543</td>\n",
       "      <td>0.350190</td>\n",
       "    </tr>\n",
       "  </tbody>\n",
       "</table>\n",
       "</div>"
      ],
      "text/plain": [
       "      Actual  Predicted\n",
       "0  -0.544616  -0.399886\n",
       "1   1.269646   0.910737\n",
       "2  -0.638407  -0.506999\n",
       "3   0.713756   0.346170\n",
       "4   1.697320   3.560989\n",
       "5  -1.132888  -0.788134\n",
       "6  -1.191963  -0.828912\n",
       "7  -1.699425  -1.673466\n",
       "8   1.409238   1.125537\n",
       "9   1.107882   0.641089\n",
       "10 -1.498862  -1.166906\n",
       "11  1.598570   1.915243\n",
       "12 -0.114608  -0.135407\n",
       "13 -0.349742  -0.260611\n",
       "14  0.689543   0.350190"
      ]
     },
     "execution_count": 43,
     "metadata": {},
     "output_type": "execute_result"
    }
   ],
   "source": [
    "dfaux = pd.DataFrame({'Actual': Y_test.flatten(), 'Predicted': y_pred.flatten()})\n",
    "dfaux.head(15)"
   ]
  },
  {
   "cell_type": "markdown",
   "metadata": {},
   "source": [
    "Ahora, necesitariamos ver esto desplegado en un grafico para poder ver claramente la presición de nuestro modelo.  \n",
    "En primer lugar tenemos un grafico de barras que muestra al **Y_test**(Actual) y al **y_pred**(Predicted) uno al lado del otro."
   ]
  },
  {
   "cell_type": "code",
   "execution_count": 44,
   "metadata": {},
   "outputs": [
    {
     "data": {
      "image/png": "[encoded data removed]",
      "text/plain": [
       "<Figure size 1600x1000 with 1 Axes>"
      ]
     },
     "metadata": {},
     "output_type": "display_data"
    },
    {
     "data": {
      "text/plain": [
       "'\\nGráfico de barras mostrando la comparación de valores reales y predecidos \\n'"
      ]
     },
     "execution_count": 44,
     "metadata": {},
     "output_type": "execute_result"
    }
   ],
   "source": [
    "df1 = dfaux.head(30).abs()\n",
    "df1.plot(kind='bar',figsize=(16,10))\n",
    "plt.grid(which='major', linestyle='-', linewidth='0.5', color='green')\n",
    "plt.grid(which='minor', linestyle=':', linewidth='0.5', color='black')\n",
    "plt.show()\n",
    "\n",
    "'''\n",
    "Gráfico de barras mostrando la comparación de valores reales y predecidos \n",
    "'''"
   ]
  },
  {
   "cell_type": "markdown",
   "metadata": {},
   "source": [
    "Ahora, visto en un grafico lineal y de scatter, podemos observar la similitud entre la relacion del **X_test** con el **Y_test**, y el **X_test** con la predicción, **y_pred**.  \n",
    "Vemos en algunos casos, por ejemplo en 4, 11 y 26 (parte inferior del grafico) son algun de los casos en los que el **modelo supera a los valores originales**, lo cual nos muestra una **desviación** evidente del modelo predictivo."
   ]
  },
  {
   "cell_type": "code",
   "execution_count": 45,
   "metadata": {},
   "outputs": [
    {
     "data": {
      "image/png": "[encoded data removed]",
      "text/plain": [
       "<Figure size 640x480 with 1 Axes>"
      ]
     },
     "metadata": {},
     "output_type": "display_data"
    }
   ],
   "source": [
    "plt.scatter(X_test, Y_test,  color='gray')\n",
    "plt.plot(X_test, y_pred, color='red', linewidth=2)\n",
    "plt.show()"
   ]
  },
  {
   "cell_type": "markdown",
   "metadata": {},
   "source": [
    "Se ve que hay una aproximación cercana desde -2 hasta 2, pero a partir de ahí ya empieza a reducir la relación entre el original y el modelo, como ya nos indicaba el grafico anterior."
   ]
  },
  {
   "cell_type": "markdown",
   "metadata": {},
   "source": [
    "### Porcentaje de error y conclusiones ###"
   ]
  },
  {
   "cell_type": "code",
   "execution_count": 46,
   "metadata": {},
   "outputs": [
    {
     "name": "stdout",
     "output_type": "stream",
     "text": [
      "Error Absoluto Medio: 0.2649735226471772\n",
      "Error Cuadratico Medio: 0.11317518104796256\n",
      "Raíz del error cuadrático medio: 0.3364151914643014\n"
     ]
    }
   ],
   "source": [
    "print('Error Absoluto Medio:',metrics.mean_absolute_error(Y_test, y_pred)) \n",
    "print('Error Cuadratico Medio:', metrics.mean_squared_error(Y_test, y_pred)) \n",
    "print('Raíz del error cuadrático medio:', np.sqrt(metrics.mean_squared_error(Y_test, y_pred)))"
   ]
  },
  {
   "cell_type": "markdown",
   "metadata": {},
   "source": [
    "Vemos que el la raiz de error es bastante baja, lo cual nos indica que nuestro modelo predictivo es bastante acertado.  \n",
    "De todas formas, este modelo utiliza una regresión **lineal**, por lo que podria modificarse un poco para poder obtener un modelo aun mas preciso.\n",
    "Para hacer esto, usaremos otro modelo de regresión llamado **Regresión Polinomica** "
   ]
  },
  {
   "cell_type": "markdown",
   "metadata": {},
   "source": [
    "## Regresion Polinomica ##"
   ]
  },
  {
   "cell_type": "markdown",
   "metadata": {},
   "source": [
    "### Test y Train de regresion polinomica ###\n",
    "\n",
    "El objetivo de hacer la regresion polinomica es obtener un modelo que pueda generar predicciones mas exactas que el anterior.  \n",
    "Para esto, usaremos una clase nueva **sklean** llamada `PolynomialFeatures()`, y colocamos el grado del polinomio que vamos a usar, en este caso es un polinomio de **grado 2**.  \n",
    "**poly** será el objecto que nos servirá como modelo para esta regresión."
   ]
  },
  {
   "cell_type": "code",
   "execution_count": 47,
   "metadata": {},
   "outputs": [],
   "source": [
    "X_train, X_test, Y_train, Y_test = train_test_split(X,Y,test_size= 0.2, random_state=0)\n",
    "poly = PolynomialFeatures(degree=2)"
   ]
  },
  {
   "cell_type": "markdown",
   "metadata": {},
   "source": [
    "### fit_transform() de regresion polinomica ###"
   ]
  },
  {
   "cell_type": "markdown",
   "metadata": {},
   "source": [
    "Ahora necesitariamos hacer un `fit_transform()` como en la regresion anterior.  \n",
    "En este caso, ya hicimos `fit_transform()` a las variables dependientes e independientes, pero la regresión polinomica funciona de otra forma.  \n",
    "Necesitamos hacer un `fit_transform()` pero especificamente con el objeto **poly** que creamos previamente."
   ]
  },
  {
   "cell_type": "code",
   "execution_count": 48,
   "metadata": {},
   "outputs": [],
   "source": [
    "X_train_poly, X_test_poly = poly.fit_transform(X_train), poly.fit_transform(X_test)"
   ]
  },
  {
   "cell_type": "markdown",
   "metadata": {},
   "source": [
    "### Aplicando un modelo de regresión polinomica ###"
   ]
  },
  {
   "cell_type": "markdown",
   "metadata": {},
   "source": [
    "Para hacer una **regresión polinomica**, hay que interpretarlo como una **regresion lineal**.  \n",
    "Veamoslo de esta forma:  \n",
    "Una ecuación de regresion polinomica está compuesta de la siguiente forma:"
   ]
  },
  {
   "cell_type": "markdown",
   "metadata": {},
   "source": [
    "![Alt text](../../../../../C:/Proyectos/Python/git/TP_Matematica_III/assets/poly_regr%20.jpeg)"
   ]
  },
  {
   "cell_type": "markdown",
   "metadata": {},
   "source": [
    "-   **y = B0 + B1 * x1 + B2 * x1^2**  \n",
    "\n",
    "Esta sería nuestra ecuación en para la **regresión polinomica** de **grado 2**.\n",
    "Para poder implementar un modelo de regresion polinomica, necesitamos transformar esta ecuacion polinomica en una de regresion lineal.\n",
    "Para hacer esto, lo que podemos hacer es transformar **x1^2** en una variable, por ejemplo **z**.  \n",
    "Esto nos dejaría con la siguiente ecuación:  \n",
    "\n",
    "-   **z = x1^2**\n",
    "-   **y = B0 + B1 * x1 + B2 * z**  \n",
    "\n",
    "Ahora sabiendo esto, podemos proseguir. Para esto, necesitamos obtener un modelo de regresion linearl. para ello, usaremos el paquete llamado `lineal_model`, del cual tomaremos `LinearRegresion()`.  \n",
    "Ademas, ya pudimos ponerlo a entrenar con **X_train_poly** y **Y_train**"
   ]
  },
  {
   "cell_type": "code",
   "execution_count": 49,
   "metadata": {},
   "outputs": [],
   "source": [
    "polyModel = linear_model.LinearRegression()\n",
    "polyModel = polyModel.fit(X_train_poly, Y_train)"
   ]
  },
  {
   "cell_type": "markdown",
   "metadata": {},
   "source": [
    "### coeficiente e intereseccion del modelo ###\n",
    "\n",
    "Ahora, para poder aplicarlos en el polinomio de regresión polinomica, necesitamos el valor de la **intersección** del modelo, y el valor sus **coeficientes**. para ello, utilizaremos los atributos `coef_` y `intercept_`."
   ]
  },
  {
   "cell_type": "code",
   "execution_count": 50,
   "metadata": {},
   "outputs": [],
   "source": [
    "coefficient = polyModel.coef_.flatten()\n",
    "intercept = polyModel.intercept_.flatten()"
   ]
  },
  {
   "cell_type": "markdown",
   "metadata": {},
   "source": [
    "El **coeficiente** sería el coeficiente, valga la redundancia, de cada elemento del polomio. o sea, que nos daría el coeficiente de B0, B1 y B2."
   ]
  },
  {
   "cell_type": "code",
   "execution_count": 51,
   "metadata": {},
   "outputs": [
    {
     "data": {
      "text/plain": [
       "array([ 0.        ,  1.11004537, -0.16416538])"
      ]
     },
     "execution_count": 51,
     "metadata": {},
     "output_type": "execute_result"
    }
   ],
   "source": [
    "coefficient"
   ]
  },
  {
   "cell_type": "markdown",
   "metadata": {},
   "source": [
    "La **intercepcion** sería el valor de interseccion del modelo, a lo cual nos sirve para utilizarlo en B0."
   ]
  },
  {
   "cell_type": "code",
   "execution_count": 52,
   "metadata": {},
   "outputs": [
    {
     "data": {
      "text/plain": [
       "array([0.16291004])"
      ]
     },
     "execution_count": 52,
     "metadata": {},
     "output_type": "execute_result"
    }
   ],
   "source": [
    "intercept"
   ]
  },
  {
   "cell_type": "markdown",
   "metadata": {},
   "source": [
    "Si vemos como realmente quedaría el polinomio con los datos obtenidos, obtendriamos algo como esto:\n",
    "-   **y = intercept + coefficient[1] . X + coefficient[2] . X^2**"
   ]
  },
  {
   "cell_type": "markdown",
   "metadata": {},
   "source": [
    "### Predicción con predict y la funcion de regresion polinomica ###"
   ]
  },
  {
   "cell_type": "markdown",
   "metadata": {},
   "source": [
    "Seguiremos de la misma forma anterior. Crearemos un **y_pred** que tendra la predicción del **y_test**."
   ]
  },
  {
   "cell_type": "code",
   "execution_count": 53,
   "metadata": {},
   "outputs": [],
   "source": [
    "y_pred = polyModel.predict(X_test_poly)"
   ]
  },
  {
   "cell_type": "markdown",
   "metadata": {},
   "source": [
    "Y haremos la comparación con el dataFrame."
   ]
  },
  {
   "cell_type": "code",
   "execution_count": 54,
   "metadata": {},
   "outputs": [
    {
     "data": {
      "text/html": [
       "<div>\n",
       "<style scoped>\n",
       "    .dataframe tbody tr th:only-of-type {\n",
       "        vertical-align: middle;\n",
       "    }\n",
       "\n",
       "    .dataframe tbody tr th {\n",
       "        vertical-align: top;\n",
       "    }\n",
       "\n",
       "    .dataframe thead th {\n",
       "        text-align: right;\n",
       "    }\n",
       "</style>\n",
       "<table border=\"1\" class=\"dataframe\">\n",
       "  <thead>\n",
       "    <tr style=\"text-align: right;\">\n",
       "      <th></th>\n",
       "      <th>Actual</th>\n",
       "      <th>Predicted</th>\n",
       "    </tr>\n",
       "  </thead>\n",
       "  <tbody>\n",
       "    <tr>\n",
       "      <th>0</th>\n",
       "      <td>-0.544616</td>\n",
       "      <td>-0.345490</td>\n",
       "    </tr>\n",
       "    <tr>\n",
       "      <th>1</th>\n",
       "      <td>1.269646</td>\n",
       "      <td>1.101088</td>\n",
       "    </tr>\n",
       "    <tr>\n",
       "      <th>2</th>\n",
       "      <td>-0.638407</td>\n",
       "      <td>-0.493009</td>\n",
       "    </tr>\n",
       "    <tr>\n",
       "      <th>3</th>\n",
       "      <td>0.713756</td>\n",
       "      <td>0.559211</td>\n",
       "    </tr>\n",
       "    <tr>\n",
       "      <th>4</th>\n",
       "      <td>1.697320</td>\n",
       "      <td>2.001197</td>\n",
       "    </tr>\n",
       "    <tr>\n",
       "      <th>5</th>\n",
       "      <td>-1.132888</td>\n",
       "      <td>-0.901254</td>\n",
       "    </tr>\n",
       "    <tr>\n",
       "      <th>6</th>\n",
       "      <td>-1.191963</td>\n",
       "      <td>-0.963000</td>\n",
       "    </tr>\n",
       "    <tr>\n",
       "      <th>7</th>\n",
       "      <td>-1.699425</td>\n",
       "      <td>-2.386092</td>\n",
       "    </tr>\n",
       "    <tr>\n",
       "      <th>8</th>\n",
       "      <td>1.409238</td>\n",
       "      <td>1.274960</td>\n",
       "    </tr>\n",
       "    <tr>\n",
       "      <th>9</th>\n",
       "      <td>1.107882</td>\n",
       "      <td>0.857618</td>\n",
       "    </tr>\n",
       "    <tr>\n",
       "      <th>10</th>\n",
       "      <td>-1.498862</td>\n",
       "      <td>-1.499498</td>\n",
       "    </tr>\n",
       "    <tr>\n",
       "      <th>11</th>\n",
       "      <td>1.598570</td>\n",
       "      <td>1.761165</td>\n",
       "    </tr>\n",
       "    <tr>\n",
       "      <th>12</th>\n",
       "      <td>-0.114608</td>\n",
       "      <td>-0.000200</td>\n",
       "    </tr>\n",
       "    <tr>\n",
       "      <th>13</th>\n",
       "      <td>-0.349742</td>\n",
       "      <td>-0.160296</td>\n",
       "    </tr>\n",
       "    <tr>\n",
       "      <th>14</th>\n",
       "      <td>0.689543</td>\n",
       "      <td>0.563505</td>\n",
       "    </tr>\n",
       "  </tbody>\n",
       "</table>\n",
       "</div>"
      ],
      "text/plain": [
       "      Actual  Predicted\n",
       "0  -0.544616  -0.345490\n",
       "1   1.269646   1.101088\n",
       "2  -0.638407  -0.493009\n",
       "3   0.713756   0.559211\n",
       "4   1.697320   2.001197\n",
       "5  -1.132888  -0.901254\n",
       "6  -1.191963  -0.963000\n",
       "7  -1.699425  -2.386092\n",
       "8   1.409238   1.274960\n",
       "9   1.107882   0.857618\n",
       "10 -1.498862  -1.499498\n",
       "11  1.598570   1.761165\n",
       "12 -0.114608  -0.000200\n",
       "13 -0.349742  -0.160296\n",
       "14  0.689543   0.563505"
      ]
     },
     "execution_count": 54,
     "metadata": {},
     "output_type": "execute_result"
    }
   ],
   "source": [
    "dfaux = pd.DataFrame({'Actual': Y_test.flatten(), 'Predicted': y_pred.flatten()})\n",
    "dfaux.head(15)"
   ]
  },
  {
   "cell_type": "markdown",
   "metadata": {},
   "source": [
    "Y con su respectivo grafico."
   ]
  },
  {
   "cell_type": "code",
   "execution_count": 55,
   "metadata": {},
   "outputs": [
    {
     "data": {
      "image/png": "[encoded data removed]",
      "text/plain": [
       "<Figure size 1600x1000 with 1 Axes>"
      ]
     },
     "metadata": {},
     "output_type": "display_data"
    }
   ],
   "source": [
    "df1 = dfaux.head(30).abs()\n",
    "df1.plot(kind='bar',figsize=(16,10))\n",
    "plt.grid(which='major', linestyle='-', linewidth='0.5', color='green')\n",
    "plt.grid(which='minor', linestyle=':', linewidth='0.5', color='black')\n",
    "plt.show()"
   ]
  },
  {
   "cell_type": "markdown",
   "metadata": {},
   "source": [
    "Veamos ahora su representación grafica de forma polinomica y de scatter."
   ]
  },
  {
   "cell_type": "code",
   "execution_count": 56,
   "metadata": {},
   "outputs": [
    {
     "data": {
      "image/png": "[encoded data removed]",
      "text/plain": [
       "<Figure size 640x480 with 1 Axes>"
      ]
     },
     "metadata": {},
     "output_type": "display_data"
    }
   ],
   "source": [
    "x_axis = np.arange(-2,4,0.1)\n",
    "response = intercept + coefficient[1] * x_axis + coefficient[2] * x_axis**2\n",
    "\n",
    "plt.scatter(X_test, Y_test,  color='gray')\n",
    "plt.plot(x_axis,response,color='red')\n",
    "plt.show()"
   ]
  },
  {
   "cell_type": "markdown",
   "metadata": {},
   "source": [
    "Vemos que la función polinomica es mucho mas precisa que el anterior, que era lineal.  \n",
    "Esto nos pertmite tener un acercamiento mas grande a los valores del **Y_test**.  \n",
    "Podremos ver la presición de este modelo y compararlo con el anterior en el siguiente tema."
   ]
  },
  {
   "cell_type": "markdown",
   "metadata": {},
   "source": [
    "### Porcentaje de error ###"
   ]
  },
  {
   "cell_type": "code",
   "execution_count": 57,
   "metadata": {},
   "outputs": [
    {
     "name": "stdout",
     "output_type": "stream",
     "text": [
      "Error Absoluto Medio: 0.16438878342305827\n",
      "Error Cuadratico Medio: 0.042271070736417594\n",
      "Raíz del error cuadrático medio: 0.20559929653677708\n"
     ]
    }
   ],
   "source": [
    "\"\"\"\n",
    "Error anterior\n",
    "---------------\n",
    "Error Absoluto Medio: 0.2649735226471772\n",
    "Error Cuadratico Medio: 0.11317518104796256\n",
    "Raíz del error cuadrático medio: 0.3364151914643014\n",
    "\"\"\"\n",
    "print('Error Absoluto Medio:',metrics.mean_absolute_error(Y_test, y_pred)) \n",
    "print('Error Cuadratico Medio:', metrics.mean_squared_error(Y_test, y_pred)) \n",
    "print('Raíz del error cuadrático medio:', np.sqrt(metrics.mean_squared_error(Y_test, y_pred)))"
   ]
  },
  {
   "cell_type": "markdown",
   "metadata": {},
   "source": [
    "Como podemos ver, el grado de error que nos figura en nuestro nuevo sistema es mejor que el anterior. Hagamos la comparación:  \n",
    "\n",
    "    -   error absoluto medio:\n",
    "        -   lineal: 0.2649735226471772\n",
    "        -   polinomica: 0.16438878342305827\n",
    "    \n",
    "    -   error cuadratico medio:\n",
    "        -   lineal: 0.11317518104796256\n",
    "        -   polinomica: 0.042271070736417594\n",
    "    \n",
    "    -   raiz del error cuadratico medio:\n",
    "        -   lineal: 0.3364151914643014\n",
    "        -   polinomica: 0.20559929653677708\n",
    "\n"
   ]
  },
  {
   "cell_type": "markdown",
   "metadata": {},
   "source": [
    "Podemos observar que el **grado de error del modelo polinomico es menor que el del modelo linea**, demostrando así que el nuevo modelo es superior al anterior para este caso."
   ]
  },
  {
   "cell_type": "markdown",
   "metadata": {},
   "source": [
    "### Conclusiones Finales ###"
   ]
  },
  {
   "cell_type": "markdown",
   "metadata": {},
   "source": [
    "El objetivo principal del analisis de estos datos es poder llegar a ciertas conclusiones.  \n",
    "Datos los analisis que hicimos previamente, y a los que se trabajo en seccion de regresión podemos afirmar la fuerte relación entre el tiempo de los corredores y la posición asiganada al completar la carrera.  \n",
    "-   Podemos decir que mientras menor sea el tiempo recorrido, menor va a ser su posición, y por ende va a ser categorizado por uno veloz.  \n",
    "Ademas, vale remarcar un dato que no fue mencionado antes, que tiene que ver con los mas lentos.  \n",
    "Los corredores **mas lentos** tienen una **edad entre 70 y 80 años aproximadamentte**, ademas de poseer **tiempos mayores a 400**, y **posiciones mayores a 20000**.  \n",
    "-   Pudimos concluir que, aunque el tiempo influya de una manera agresiva a la posición, no podemos negar que **la edad tambien influye tambien en la posición del corredor**, ya que mientras esté en un rango coherente de edad, los resultados que puede obtener de posición pueden ser muy bajos.  \n",
    "-   Aunque la edad influya a la hora de decidir la posición, **no quiere decir que mientras mas joven sea menos tiempo tardará**. Pues incluso en casos donde, por ejemplo, los corredores menores a 20 años poseen tiempos mas altos incluso siendo jovenes. Gracias a esto, podemos decir que **no es una cuestion de que tan joven es, sino si está en su mejor edad**, ya que el rango estimado de edad para tener un tiempo menor es de entre 20 a 60 años.  \n",
    "-   Podemos afirmar que **la Velocidad no es un dato analisable mas allá de la cantidad**, ya que no estamos hablando de un dato medible, sino de un dato condicionado por el tiempo que estuvo en la carrera. Por eso, en los analisis previos, solamente nos limitamos a hacer graficos con respecto a la cantidad y no a datos condicionados.\n",
    "-   Hemos analisado como el **genero podria servirnos para analisar la relación entre el tiempo y la edad**, como vimos en los graficos anteriores. Sabiendo esto, **podriamos usarlo como metodo predictivo**, aunque **podría estar sesgado por la cantidad de hombre que participaron** en el evento (mas del doble que el de las mujeres). Para el caso anterior lo que se podria usar un `StandarScaler()`. De todas formas, aunque sea un dato que podria ser util a tener en cuenta, **se decidió tomar el tiempo y la posicion como analisis de regresion lineal simple en lugar del genero** debido a su fuerte relación."
   ]
  }
 ],
 "metadata": {
  "kernelspec": {
   "display_name": "Python 3.10.6 64-bit",
   "language": "python",
   "name": "python3"
  },
  "language_info": {
   "codemirror_mode": {
    "name": "ipython",
    "version": 3
   },
   "file_extension": ".py",
   "mimetype": "text/x-python",
   "name": "python",
   "nbconvert_exporter": "python",
   "pygments_lexer": "ipython3",
   "version": "3.10.6"
  },
  "orig_nbformat": 4,
  "vscode": {
   "interpreter": {
    "hash": "0f4aad36e1a7834f44c14e84b98527cfbefef55e7a336cfec74130d804d73c8f"
   }
  }
 },
 "nbformat": 4,
 "nbformat_minor": 2
}
